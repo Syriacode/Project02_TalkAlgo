{
 "cells": [
  {
   "cell_type": "markdown",
   "metadata": {},
   "source": [
    "## PROJECT-2: PART-2 - NLP Stock Sentiment Scores"
   ]
  },
  {
   "cell_type": "markdown",
   "metadata": {},
   "source": [
    "---"
   ]
  },
  {
   "cell_type": "code",
   "execution_count": 2,
   "metadata": {},
   "outputs": [
    {
     "name": "stderr",
     "output_type": "stream",
     "text": [
      "[nltk_data] Downloading package vader_lexicon to\n",
      "[nltk_data]     C:\\Users\\VSNU\\AppData\\Roaming\\nltk_data...\n",
      "[nltk_data]   Package vader_lexicon is already up-to-date!\n"
     ]
    }
   ],
   "source": [
    "# Initial imports\n",
    "import os\n",
    "import json\n",
    "import requests\n",
    "import dateutil\n",
    "import pandas as pd\n",
    "import numpy as np\n",
    "from pathlib import Path\n",
    "from dotenv import load_dotenv\n",
    "load_dotenv()\n",
    "%matplotlib inline\n",
    "\n",
    "# Importing Natural Language Libraries and Dependencies\n",
    "import nltk\n",
    "from nltk.sentiment.vader import SentimentIntensityAnalyzer\n",
    "nltk.download('vader_lexicon')\n",
    "analyzer = SentimentIntensityAnalyzer()\n",
    "\n",
    "# Importing warning ignore filter\n",
    "import warnings\n",
    "warnings.simplefilter(action=\"ignore\")"
   ]
  },
  {
   "cell_type": "code",
   "execution_count": 143,
   "metadata": {},
   "outputs": [
    {
     "data": {
      "text/html": [
       "<div>\n",
       "<style scoped>\n",
       "    .dataframe tbody tr th:only-of-type {\n",
       "        vertical-align: middle;\n",
       "    }\n",
       "\n",
       "    .dataframe tbody tr th {\n",
       "        vertical-align: top;\n",
       "    }\n",
       "\n",
       "    .dataframe thead th {\n",
       "        text-align: right;\n",
       "    }\n",
       "</style>\n",
       "<table border=\"1\" class=\"dataframe\">\n",
       "  <thead>\n",
       "    <tr style=\"text-align: right;\">\n",
       "      <th></th>\n",
       "      <th>Stock</th>\n",
       "      <th>Date</th>\n",
       "      <th>Buy/Sell</th>\n",
       "    </tr>\n",
       "  </thead>\n",
       "  <tbody>\n",
       "    <tr>\n",
       "      <th>0</th>\n",
       "      <td>JPM</td>\n",
       "      <td>02052019</td>\n",
       "      <td>1</td>\n",
       "    </tr>\n",
       "    <tr>\n",
       "      <th>1</th>\n",
       "      <td>JPM</td>\n",
       "      <td>02212019</td>\n",
       "      <td>1</td>\n",
       "    </tr>\n",
       "    <tr>\n",
       "      <th>2</th>\n",
       "      <td>JPM</td>\n",
       "      <td>03192019</td>\n",
       "      <td>1</td>\n",
       "    </tr>\n",
       "    <tr>\n",
       "      <th>3</th>\n",
       "      <td>JPM</td>\n",
       "      <td>04092019</td>\n",
       "      <td>1</td>\n",
       "    </tr>\n",
       "    <tr>\n",
       "      <th>4</th>\n",
       "      <td>JPM</td>\n",
       "      <td>06132019</td>\n",
       "      <td>1</td>\n",
       "    </tr>\n",
       "  </tbody>\n",
       "</table>\n",
       "</div>"
      ],
      "text/plain": [
       "  Stock      Date  Buy/Sell\n",
       "0   JPM  02052019         1\n",
       "1   JPM  02212019         1\n",
       "2   JPM  03192019         1\n",
       "3   JPM  04092019         1\n",
       "4   JPM  06132019         1"
      ]
     },
     "execution_count": 143,
     "metadata": {},
     "output_type": "execute_result"
    }
   ],
   "source": [
    "# Sourcing and Preprocessing Input Data \n",
    "filepath = Path(\"NLP_Resource/Resource/_COMPOSITE2.csv\")\n",
    "algo_results_df = pd.read_csv(filepath, parse_dates=True, infer_datetime_format=True)\n",
    "for i in range(len(algo_results_df)):\n",
    "    dt=dateutil.parser.parse(algo_results_df['Date'][i])\n",
    "    mm=dt.month\n",
    "    dd=dt.day\n",
    "    yyyy=dt.year\n",
    "    if mm<10:\n",
    "        mm='0'+str(mm)\n",
    "    if dd<10:\n",
    "        dd='0'+str(dd)\n",
    "    algo_results_df['Date'][i]=str(mm)+str(dd)+str(yyyy)\n",
    "algo_results_df.head()"
   ]
  },
  {
   "cell_type": "code",
   "execution_count": 144,
   "metadata": {},
   "outputs": [
    {
     "data": {
      "text/html": [
       "<div>\n",
       "<style scoped>\n",
       "    .dataframe tbody tr th:only-of-type {\n",
       "        vertical-align: middle;\n",
       "    }\n",
       "\n",
       "    .dataframe tbody tr th {\n",
       "        vertical-align: top;\n",
       "    }\n",
       "\n",
       "    .dataframe thead th {\n",
       "        text-align: right;\n",
       "    }\n",
       "</style>\n",
       "<table border=\"1\" class=\"dataframe\">\n",
       "  <thead>\n",
       "    <tr style=\"text-align: right;\">\n",
       "      <th></th>\n",
       "      <th>Stock</th>\n",
       "      <th>Date</th>\n",
       "      <th>Buy/Sell</th>\n",
       "      <th>JSON File Name</th>\n",
       "    </tr>\n",
       "  </thead>\n",
       "  <tbody>\n",
       "    <tr>\n",
       "      <th>0</th>\n",
       "      <td>JPM</td>\n",
       "      <td>02052019</td>\n",
       "      <td>1</td>\n",
       "      <td>JPM02052019</td>\n",
       "    </tr>\n",
       "    <tr>\n",
       "      <th>1</th>\n",
       "      <td>JPM</td>\n",
       "      <td>02212019</td>\n",
       "      <td>1</td>\n",
       "      <td>JPM02212019</td>\n",
       "    </tr>\n",
       "    <tr>\n",
       "      <th>2</th>\n",
       "      <td>JPM</td>\n",
       "      <td>03192019</td>\n",
       "      <td>1</td>\n",
       "      <td>JPM03192019</td>\n",
       "    </tr>\n",
       "    <tr>\n",
       "      <th>3</th>\n",
       "      <td>JPM</td>\n",
       "      <td>04092019</td>\n",
       "      <td>1</td>\n",
       "      <td>JPM04092019</td>\n",
       "    </tr>\n",
       "    <tr>\n",
       "      <th>4</th>\n",
       "      <td>JPM</td>\n",
       "      <td>06132019</td>\n",
       "      <td>1</td>\n",
       "      <td>JPM06132019</td>\n",
       "    </tr>\n",
       "  </tbody>\n",
       "</table>\n",
       "</div>"
      ],
      "text/plain": [
       "  Stock      Date  Buy/Sell JSON File Name\n",
       "0   JPM  02052019         1    JPM02052019\n",
       "1   JPM  02212019         1    JPM02212019\n",
       "2   JPM  03192019         1    JPM03192019\n",
       "3   JPM  04092019         1    JPM04092019\n",
       "4   JPM  06132019         1    JPM06132019"
      ]
     },
     "execution_count": 144,
     "metadata": {},
     "output_type": "execute_result"
    }
   ],
   "source": [
    "# JSON Source File Name Generation\n",
    "temp=[]\n",
    "for i in range(len(algo_results_df)):\n",
    "    temp.append(algo_results_df['Stock'][i]+algo_results_df['Date'][i])\n",
    "algo_results_df['JSON File Name']=temp\n",
    "algo_results_df.head()"
   ]
  },
  {
   "cell_type": "code",
   "execution_count": 145,
   "metadata": {},
   "outputs": [],
   "source": [
    "# Function to Collate Text in a JSON file into a Single Source for Sentiment Score Calculation\n",
    "def String(s):  \n",
    "    str = \" \"  \n",
    "    for ele in s:  \n",
    "        str = str+' '+ele   \n",
    "    return str"
   ]
  },
  {
   "cell_type": "code",
   "execution_count": 146,
   "metadata": {},
   "outputs": [],
   "source": [
    "# Function to Calculate Sentiment Scores\n",
    "def stock_score(json_path):\n",
    "    \n",
    "    # Reading JSON file for calculating NLP Sentiment Scores\n",
    "    with open(json_path, 'r') as f:\n",
    "        new_data = json.load(f)    \n",
    "        \n",
    "    # Calculating Compound Sentiment Scores\n",
    "    if len(new_data['data'])==0:\n",
    "        compound=None\n",
    "    else:\n",
    "        temp_data=[]\n",
    "        for i in range(0,len(new_data['data'])):\n",
    "            temp=(new_data['data'][i]['title'])+' '+(new_data['data'][i]['text'])\n",
    "            temp_data.append(temp)\n",
    "        data=String(temp_data)\n",
    "        sentiment = analyzer.polarity_scores(data)\n",
    "        compound = sentiment[\"compound\"]\n",
    "    \n",
    "    return compound"
   ]
  },
  {
   "cell_type": "code",
   "execution_count": 147,
   "metadata": {},
   "outputs": [
    {
     "data": {
      "text/html": [
       "<div>\n",
       "<style scoped>\n",
       "    .dataframe tbody tr th:only-of-type {\n",
       "        vertical-align: middle;\n",
       "    }\n",
       "\n",
       "    .dataframe tbody tr th {\n",
       "        vertical-align: top;\n",
       "    }\n",
       "\n",
       "    .dataframe thead th {\n",
       "        text-align: right;\n",
       "    }\n",
       "</style>\n",
       "<table border=\"1\" class=\"dataframe\">\n",
       "  <thead>\n",
       "    <tr style=\"text-align: right;\">\n",
       "      <th></th>\n",
       "      <th>Stock</th>\n",
       "      <th>Date</th>\n",
       "      <th>Buy/Sell</th>\n",
       "      <th>JSON File Name</th>\n",
       "      <th>Sentiment Score</th>\n",
       "    </tr>\n",
       "  </thead>\n",
       "  <tbody>\n",
       "    <tr>\n",
       "      <th>0</th>\n",
       "      <td>JPM</td>\n",
       "      <td>02052019</td>\n",
       "      <td>1</td>\n",
       "      <td>JPM02052019</td>\n",
       "      <td>NaN</td>\n",
       "    </tr>\n",
       "    <tr>\n",
       "      <th>1</th>\n",
       "      <td>JPM</td>\n",
       "      <td>02212019</td>\n",
       "      <td>1</td>\n",
       "      <td>JPM02212019</td>\n",
       "      <td>-0.4767</td>\n",
       "    </tr>\n",
       "    <tr>\n",
       "      <th>2</th>\n",
       "      <td>JPM</td>\n",
       "      <td>03192019</td>\n",
       "      <td>1</td>\n",
       "      <td>JPM03192019</td>\n",
       "      <td>0.9075</td>\n",
       "    </tr>\n",
       "    <tr>\n",
       "      <th>3</th>\n",
       "      <td>JPM</td>\n",
       "      <td>04092019</td>\n",
       "      <td>1</td>\n",
       "      <td>JPM04092019</td>\n",
       "      <td>0.5236</td>\n",
       "    </tr>\n",
       "    <tr>\n",
       "      <th>4</th>\n",
       "      <td>JPM</td>\n",
       "      <td>06132019</td>\n",
       "      <td>1</td>\n",
       "      <td>JPM06132019</td>\n",
       "      <td>NaN</td>\n",
       "    </tr>\n",
       "  </tbody>\n",
       "</table>\n",
       "</div>"
      ],
      "text/plain": [
       "  Stock      Date  Buy/Sell JSON File Name  Sentiment Score\n",
       "0   JPM  02052019         1    JPM02052019              NaN\n",
       "1   JPM  02212019         1    JPM02212019          -0.4767\n",
       "2   JPM  03192019         1    JPM03192019           0.9075\n",
       "3   JPM  04092019         1    JPM04092019           0.5236\n",
       "4   JPM  06132019         1    JPM06132019              NaN"
      ]
     },
     "execution_count": 147,
     "metadata": {},
     "output_type": "execute_result"
    }
   ],
   "source": [
    "# Script to Calculate Compound Scores\n",
    "sentiment_score=[]\n",
    "for i in range(len(algo_results_df)):\n",
    "    json_path=\"NLP_Resource/\"+algo_results_df['JSON File Name'][i]+'.json'\n",
    "    sentiment_score.append(stock_score(json_path))\n",
    "algo_results_df['Sentiment Score']=sentiment_score\n",
    "algo_results_df.head()"
   ]
  },
  {
   "cell_type": "markdown",
   "metadata": {},
   "source": [
    "#### *Following commented out scode snippet was used to write sentiment scores to 'Sentiment_Scores_1.csv' file. For convenience, this file has already been created during project development and deployment, and has been placed under 'Resources' folder. This file was used as input data for machine learning/artificial neural network model under 'ALGO_ML_DEV_3_FINAL.ipynb'*"
   ]
  },
  {
   "cell_type": "code",
   "execution_count": null,
   "metadata": {},
   "outputs": [],
   "source": [
    "# algo_results_df.to_csv(\"Sentiment_Scores_1.csv\")"
   ]
  }
 ],
 "metadata": {
  "kernelspec": {
   "display_name": "Python [conda env:nlpenv2]",
   "language": "python",
   "name": "conda-env-nlpenv2-py"
  },
  "language_info": {
   "codemirror_mode": {
    "name": "ipython",
    "version": 3
   },
   "file_extension": ".py",
   "mimetype": "text/x-python",
   "name": "python",
   "nbconvert_exporter": "python",
   "pygments_lexer": "ipython3",
   "version": "3.7.6"
  }
 },
 "nbformat": 4,
 "nbformat_minor": 4
}
