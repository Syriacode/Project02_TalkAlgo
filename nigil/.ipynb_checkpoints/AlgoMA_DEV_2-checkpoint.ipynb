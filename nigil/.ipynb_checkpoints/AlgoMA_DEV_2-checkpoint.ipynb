{
 "cells": [
  {
   "cell_type": "markdown",
   "metadata": {},
   "source": [
    "# First Iteration Code Development and Testing"
   ]
  },
  {
   "cell_type": "markdown",
   "metadata": {},
   "source": [
    "## Algorithmic Trading - Applying Moving Average"
   ]
  },
  {
   "cell_type": "markdown",
   "metadata": {},
   "source": [
    "### Importing Libraries and Dependencies"
   ]
  },
  {
   "cell_type": "code",
   "execution_count": 2,
   "metadata": {},
   "outputs": [],
   "source": [
    "# Import libraries and dependencies\n",
    "import numpy as np\n",
    "import pandas as pd\n",
    "import hvplot.pandas\n",
    "from pathlib import Path\n",
    "import warnings\n",
    "warnings.simplefilter(action=\"ignore\")"
   ]
  },
  {
   "cell_type": "markdown",
   "metadata": {},
   "source": [
    "### Input Parameters"
   ]
  },
  {
   "cell_type": "code",
   "execution_count": null,
   "metadata": {},
   "outputs": [],
   "source": [
    "# Path\n",
    "filepath = Path(\"AAPL.csv\")\n",
    "\n",
    "# Moving Average Window Size\n",
    "short_window = 50\n",
    "long_window = 100\n",
    "\n",
    "# Set initial capital\n",
    "initial_capital = float(100000)\n",
    "\n",
    "# Set the share size\n",
    "share_size = -500"
   ]
  },
  {
   "cell_type": "markdown",
   "metadata": {},
   "source": [
    "### Function to Generate and Plot Moving Average Crossoversignal"
   ]
  },
  {
   "cell_type": "code",
   "execution_count": 24,
   "metadata": {},
   "outputs": [],
   "source": [
    "def ma_crossover_signal(filepath, short_window, long_window):\n",
    "    \n",
    "    # Reading csv to dataframe\n",
    "    stock_df = pd.read_csv(filepath, parse_dates=True, infer_datetime_format=True)\n",
    "    \n",
    "    # Grab just the `date` and `close` from the dataset\n",
    "    signals_df = stock_df.loc[:, [\"Date\", \"Close\"]].copy()\n",
    "    \n",
    "    # Set the `date` colun as the index\n",
    "    signals_df = signals_df.set_index(\"Date\", drop=True)\n",
    "\n",
    "    # Generate the short and long moving averages (50 and 100 days, respectively)\n",
    "    signals_df[\"SMA50\"] = signals_df[\"Close\"].rolling(window=short_window).mean()\n",
    "    signals_df[\"SMA100\"] = signals_df[\"Close\"].rolling(window=long_window).mean()\n",
    "    signals_df[\"Signal\"] = 0.0\n",
    "\n",
    "    # Generate the trading signal 0 or 1,\n",
    "    # where 0 is when the SMA50 is under the SMA100, and\n",
    "    # where 1 is when the SMA50 is higher (or crosses over) the SMA100\n",
    "    signals_df[\"Signal\"][short_window:] = np.where(\n",
    "        signals_df[\"SMA50\"][short_window:] > signals_df[\"SMA100\"][short_window:], 1.0, 0.0)\n",
    "\n",
    "    # Calculate the points in time at which a position should be taken, 1 or -1\n",
    "    signals_df[\"Entry/Exit\"] = signals_df[\"Signal\"].diff()\n",
    "    \n",
    "    #Plotting Entry/Exit Points of Moving Average Crossover Trading Strategy\n",
    "    # Visualize exit position relative to close price\n",
    "    exit = signals_df[signals_df['Entry/Exit'] == -1.0]['Close'].hvplot.scatter(\n",
    "        color='red', marker='v', size=200, legend=False, ylabel='Price in $', width=1000, height=400)\n",
    "\n",
    "    # Visualize entry position relative to close price\n",
    "    entry = signals_df[signals_df['Entry/Exit'] == 1.0]['Close'].hvplot.scatter(\n",
    "        color='green', marker='^', size=200, legend=False, ylabel='Price in $', width=1000, height=400)\n",
    "\n",
    "    # Visualize close price for the investment\n",
    "    security_close = signals_df[['Close']].hvplot(\n",
    "        line_color='lightgray', ylabel='Price in $', width=1000, height=400)\n",
    "\n",
    "    # Visualize moving averages\n",
    "    moving_avgs = signals_df[['SMA50', 'SMA100']].hvplot(\n",
    "        ylabel='Price in $', width=1000, height=400)\n",
    "\n",
    "    # Overlay plots\n",
    "    entry_exit_plot = security_close * moving_avgs * entry * exit\n",
    "    entry_exit_plot.opts(xaxis=None)\n",
    "    \n",
    "    return signals_df, entry_exit_plot"
   ]
  },
  {
   "cell_type": "markdown",
   "metadata": {},
   "source": [
    "### Function to Backtest, Plot Trading Strategy, Evaluate Portfolio based on Backtesting"
   ]
  },
  {
   "cell_type": "code",
   "execution_count": null,
   "metadata": {},
   "outputs": [],
   "source": [
    "def backtesting(initial_capital, share_size, signals_df):\n",
    "    \n",
    "    # Take a 500 share position where the dual moving average crossover is 1 (SMA50 is greater than SMA100)\n",
    "    signals_df[\"Position\"] = share_size * signals_df[\"Signal\"]\n",
    "\n",
    "    # Find the points in time where a 500 share position is bought or sold\n",
    "    signals_df[\"Entry/Exit Position\"] = signals_df[\"Position\"].diff()\n",
    "\n",
    "    # Multiply share price by entry/exit positions and get the cumulatively sum\n",
    "    signals_df[\"Portfolio Holdings\"] = (\n",
    "        signals_df[\"Close\"] * signals_df[\"Entry/Exit Position\"].cumsum())\n",
    "\n",
    "    # Subtract the initial capital by the portfolio holdings to get the amount of liquid cash in the portfolio\n",
    "    signals_df[\"Portfolio Cash\"] = (\n",
    "        initial_capital - (signals_df[\"Close\"] * signals_df[\"Entry/Exit Position\"]).cumsum())\n",
    "\n",
    "    # Get the total portfolio value by adding the cash amount by the portfolio holdings (or investments)\n",
    "    signals_df[\"Portfolio Total\"] = (\n",
    "        signals_df[\"Portfolio Cash\"] + signals_df[\"Portfolio Holdings\"])\n",
    "\n",
    "    # Calculate the portfolio daily returns\n",
    "    signals_df[\"Portfolio Daily Returns\"] = signals_df[\"Portfolio Total\"].pct_change()\n",
    "\n",
    "    # Calculate the cumulative returns\n",
    "    signals_df[\"Portfolio Cumulative Returns\"] = (\n",
    "        1 + signals_df[\"Portfolio Daily Returns\"]).cumprod() - 1\n",
    "    \n",
    "    # Visualize exit position relative to total portfolio value\n",
    "    entry = signals_df[signals_df['Entry/Exit'] == -1.0]['Portfolio Total'].hvplot.scatter(\n",
    "        color='red', legend=False, ylabel='Total Portfolio Value', width=1000, height=400)\n",
    "\n",
    "    # Visualize entry position relative to total portfolio value\n",
    "    exit = signals_df[signals_df['Entry/Exit'] == 1.0]['Portfolio Total'].hvplot.scatter(\n",
    "        color='green', legend=False, ylabel='Total Portfolio Value', width=1000, height=400)\n",
    "\n",
    "    # Visualize total portoflio value for the investment\n",
    "    total_portfolio_value = signals_df[['Portfolio Total']].hvplot(\n",
    "        line_color='lightgray', ylabel='Total Portfolio Value', width=1000, height=400)\n",
    "\n",
    "    # Overlay plots\n",
    "    portfolio_entry_exit_plot = total_portfolio_value * entry * exit\n",
    "    portfolio_entry_exit_plot.opts(xaxis=None)\n",
    "    \n",
    "    # Portfolio Evaluation Metrics from Backtesting\n",
    "    # Prepare DataFrame for metrics\n",
    "    metrics = ['Annual Return', 'Cumulative Returns', 'Annual Volatility', 'Sharpe Ratio', 'Sortino Ratio']\n",
    "    columns = ['Backtest']\n",
    "\n",
    "    # Initialize the DataFrame with index set to evaluation metrics and column as `Backtest` (just like PyFolio)\n",
    "    portfolio_evaluation_df = pd.DataFrame(index=metrics, columns=columns)\n",
    "\n",
    "    # Calculate cumulative return\n",
    "    portfolio_evaluation_df.loc['Cumulative Returns'] = signals_df['Portfolio Cumulative Returns'][-1]\n",
    "\n",
    "    # Calculate annualized return\n",
    "    portfolio_evaluation_df.loc['Annual Return'] = (\n",
    "        signals_df['Portfolio Daily Returns'].mean() * 252)\n",
    "\n",
    "    # Calculate annual volatility\n",
    "    portfolio_evaluation_df.loc['Annual Volatility'] = (\n",
    "        signals_df['Portfolio Daily Returns'].std() * np.sqrt(252))\n",
    "\n",
    "    # Calculate Sharpe Ratio\n",
    "    portfolio_evaluation_df.loc['Sharpe Ratio'] = (\n",
    "        signals_df['Portfolio Daily Returns'].mean() * 252) / (\n",
    "        signals_df['Portfolio Daily Returns'].std() * np.sqrt(252)\n",
    "        )\n",
    "\n",
    "    # Calculate Downside Return\n",
    "    sortino_ratio_df = signals_df[['Portfolio Daily Returns']]\n",
    "    sortino_ratio_df.loc[:,'Downside Returns'] = 0\n",
    "    sortino_ratio_df.head()\n",
    "\n",
    "    target = 0\n",
    "    mask = sortino_ratio_df['Portfolio Daily Returns'] < target\n",
    "    sortino_ratio_df.loc[mask, 'Downside Returns'] = sortino_ratio_df['Portfolio Daily Returns']**2\n",
    "\n",
    "    # Calculate Sortino Ratio\n",
    "    down_stdev = np.sqrt(sortino_ratio_df['Downside Returns'].mean()) * np.sqrt(252)\n",
    "    expected_return = sortino_ratio_df['Portfolio Daily Returns'].mean() * 252\n",
    "    sortino_ratio = expected_return/down_stdev\n",
    "\n",
    "    portfolio_evaluation_df.loc['Sortino Ratio'] = sortino_ratio\n",
    "    \n",
    "    return signals_df, portfolio_entry_exit_plot, portfolio_evaluation_df"
   ]
  },
  {
   "cell_type": "markdown",
   "metadata": {},
   "source": [
    "### Function to Prepare Trade Evaluation Metrics DataFrame"
   ]
  },
  {
   "cell_type": "code",
   "execution_count": null,
   "metadata": {},
   "outputs": [],
   "source": [
    "def trade_evaluation_metrics():\n",
    "\n",
    "    # Initialize trade evaluation DataFrame with columns\n",
    "    trade_evaluation_df = pd.DataFrame(\n",
    "        columns=[\n",
    "            'Stock', \n",
    "            'Entry Date', \n",
    "            'Exit Date', \n",
    "            'Shares', \n",
    "            'Entry Share Price', \n",
    "            'Exit Share Price', \n",
    "            'Entry Portfolio Holding', \n",
    "            'Exit Portfolio Holding', \n",
    "            'Profit/Loss']\n",
    "    )\n",
    "\n",
    "    # Initialize iterative variables\n",
    "    entry_date = ''\n",
    "    exit_date = ''\n",
    "    entry_portfolio_holding = 0\n",
    "    exit_portfolio_holding = 0\n",
    "    share_size = 0\n",
    "    entry_share_price = 0\n",
    "    exit_share_price = 0\n",
    "\n",
    "    # Loop through signal DataFrame\n",
    "    # If `Entry/Exit` is 1, set entry trade metrics\n",
    "    # Else if `Entry/Exit` is -1, set exit trade metrics and calculate profit,\n",
    "    # Then append the record to the trade evaluation DataFrame\n",
    "    for index, row in signals_df.iterrows():\n",
    "        if row['Entry/Exit'] == 1:\n",
    "            entry_date = index\n",
    "            entry_portfolio_holding = abs(row['Portfolio Holdings'])\n",
    "            share_size = row['Entry/Exit Position']\n",
    "            entry_share_price = row['Close']\n",
    "\n",
    "        elif row['Entry/Exit'] == -1:\n",
    "            exit_date = index\n",
    "            exit_portfolio_holding = abs(row['Close'] * row['Entry/Exit Position'])\n",
    "            exit_share_price = row['Close']\n",
    "            profit_loss =  entry_portfolio_holding - exit_portfolio_holding\n",
    "            trade_evaluation_df = trade_evaluation_df.append(\n",
    "                {\n",
    "                    'Stock': 'AAPL',\n",
    "                    'Entry Date': entry_date,\n",
    "                    'Exit Date': exit_date,\n",
    "                    'Shares': share_size,\n",
    "                    'Entry Share Price': entry_share_price,\n",
    "                    'Exit Share Price': exit_share_price,\n",
    "                    'Entry Portfolio Holding': entry_portfolio_holding,\n",
    "                    'Exit Portfolio Holding': exit_portfolio_holding,\n",
    "                    'Profit/Loss': profit_loss\n",
    "                },\n",
    "                ignore_index=True)\n",
    "    \n",
    "    return trade_evaluation_df"
   ]
  },
  {
   "cell_type": "code",
   "execution_count": 6,
   "metadata": {},
   "outputs": [],
   "source": []
  },
  {
   "cell_type": "code",
   "execution_count": null,
   "metadata": {},
   "outputs": [],
   "source": []
  },
  {
   "cell_type": "code",
   "execution_count": 18,
   "metadata": {},
   "outputs": [],
   "source": [
    "### Create Hvplot Line Chart of Closing, SMA50, and SMA100"
   ]
  },
  {
   "cell_type": "code",
   "execution_count": 17,
   "metadata": {},
   "outputs": [
    {
     "data": {},
     "metadata": {},
     "output_type": "display_data"
    },
    {
     "data": {
      "application/vnd.holoviews_exec.v0+json": "",
      "text/html": [
       "<div id='1717'>\n",
       "\n",
       "\n",
       "\n",
       "\n",
       "\n",
       "  <div class=\"bk-root\" id=\"f016422d-d6b7-4679-9d8d-bac28a37d469\" data-root-id=\"1717\"></div>\n",
       "</div>\n",
       "<script type=\"application/javascript\">(function(root) {\n",
       "  function embed_document(root) {\n",
       "  var docs_json = {\"5cf63734-1dc6-43c6-a688-f99363704a87\":{\"roots\":{\"references\":[{\"attributes\":{},\"id\":\"1741\",\"type\":\"PanTool\"},{\"attributes\":{},\"id\":\"1787\",\"type\":\"UnionRenderers\"},{\"attributes\":{\"axis_label\":\"Date\",\"bounds\":\"auto\",\"formatter\":{\"id\":\"1753\"},\"major_label_orientation\":\"horizontal\",\"ticker\":{\"id\":\"1734\"},\"visible\":false},\"id\":\"1733\",\"type\":\"CategoricalAxis\"},{\"attributes\":{},\"id\":\"1755\",\"type\":\"BasicTickFormatter\"},{\"attributes\":{},\"id\":\"1729\",\"type\":\"CategoricalScale\"},{\"attributes\":{\"active_drag\":\"auto\",\"active_inspect\":\"auto\",\"active_multi\":null,\"active_scroll\":\"auto\",\"active_tap\":\"auto\",\"tools\":[{\"id\":\"1721\"},{\"id\":\"1740\"},{\"id\":\"1741\"},{\"id\":\"1742\"},{\"id\":\"1743\"},{\"id\":\"1744\"}]},\"id\":\"1746\",\"type\":\"Toolbar\"},{\"attributes\":{},\"id\":\"1731\",\"type\":\"LinearScale\"},{\"attributes\":{\"callback\":null,\"renderers\":[{\"id\":\"1763\"},{\"id\":\"1779\"},{\"id\":\"1796\"}],\"tags\":[\"hv_created\"],\"tooltips\":[[\"Variable\",\"@{Variable}\"],[\"Date\",\"@{Date}\"],[\"value\",\"@{value}\"]]},\"id\":\"1721\",\"type\":\"HoverTool\"},{\"attributes\":{},\"id\":\"1742\",\"type\":\"WheelZoomTool\"},{\"attributes\":{\"axis\":{\"id\":\"1736\"},\"dimension\":1,\"grid_line_color\":null,\"ticker\":null},\"id\":\"1739\",\"type\":\"Grid\"},{\"attributes\":{},\"id\":\"1740\",\"type\":\"SaveTool\"},{\"attributes\":{\"axis_label\":\"\",\"bounds\":\"auto\",\"formatter\":{\"id\":\"1755\"},\"major_label_orientation\":\"horizontal\",\"ticker\":{\"id\":\"1737\"}},\"id\":\"1736\",\"type\":\"LinearAxis\"},{\"attributes\":{\"source\":{\"id\":\"1773\"}},\"id\":\"1780\",\"type\":\"CDSView\"},{\"attributes\":{},\"id\":\"1737\",\"type\":\"BasicTicker\"},{\"attributes\":{\"axis\":{\"id\":\"1733\"},\"grid_line_color\":null,\"ticker\":null},\"id\":\"1735\",\"type\":\"Grid\"},{\"attributes\":{},\"id\":\"1734\",\"type\":\"CategoricalTicker\"},{\"attributes\":{\"line_color\":\"#1f77b3\",\"line_width\":2,\"x\":{\"field\":\"Date\"},\"y\":{\"field\":\"value\"}},\"id\":\"1760\",\"type\":\"Line\"},{\"attributes\":{},\"id\":\"1758\",\"type\":\"Selection\"},{\"attributes\":{\"label\":{\"value\":\"SMA50\"},\"renderers\":[{\"id\":\"1779\"}]},\"id\":\"1789\",\"type\":\"LegendItem\"},{\"attributes\":{\"click_policy\":\"mute\",\"items\":[{\"id\":\"1772\"},{\"id\":\"1789\"},{\"id\":\"1808\"}],\"location\":[0,0],\"title\":\"Variable\"},\"id\":\"1771\",\"type\":\"Legend\"},{\"attributes\":{},\"id\":\"1774\",\"type\":\"Selection\"},{\"attributes\":{\"data\":{\"Date\":[\"2019-01-07\",\"2019-01-08\",\"2019-01-09\",\"2019-01-10\",\"2019-01-11\",\"2019-01-14\",\"2019-01-15\",\"2019-01-16\",\"2019-01-17\",\"2019-01-18\",\"2019-01-22\",\"2019-01-23\",\"2019-01-24\",\"2019-01-25\",\"2019-01-28\",\"2019-01-29\",\"2019-01-30\",\"2019-01-31\",\"2019-02-01\",\"2019-02-04\",\"2019-02-05\",\"2019-02-06\",\"2019-02-07\",\"2019-02-08\",\"2019-02-11\",\"2019-02-12\",\"2019-02-13\",\"2019-02-14\",\"2019-02-15\",\"2019-02-19\",\"2019-02-20\",\"2019-02-21\",\"2019-02-22\",\"2019-02-25\",\"2019-02-26\",\"2019-02-27\",\"2019-02-28\",\"2019-03-01\",\"2019-03-04\",\"2019-03-05\",\"2019-03-06\",\"2019-03-07\",\"2019-03-08\",\"2019-03-11\",\"2019-03-12\",\"2019-03-13\",\"2019-03-14\",\"2019-03-15\",\"2019-03-18\",\"2019-03-19\",\"2019-03-20\",\"2019-03-21\",\"2019-03-22\",\"2019-03-25\",\"2019-03-26\",\"2019-03-27\",\"2019-03-28\",\"2019-03-29\",\"2019-04-01\",\"2019-04-02\",\"2019-04-03\",\"2019-04-04\",\"2019-04-05\",\"2019-04-08\",\"2019-04-09\",\"2019-04-10\",\"2019-04-11\",\"2019-04-12\",\"2019-04-15\",\"2019-04-16\",\"2019-04-17\",\"2019-04-18\",\"2019-04-22\",\"2019-04-23\",\"2019-04-24\",\"2019-04-25\",\"2019-04-26\",\"2019-04-29\",\"2019-04-30\",\"2019-05-01\",\"2019-05-02\",\"2019-05-03\",\"2019-05-06\",\"2019-05-07\",\"2019-05-08\",\"2019-05-09\",\"2019-05-10\",\"2019-05-13\",\"2019-05-14\",\"2019-05-15\",\"2019-05-16\",\"2019-05-17\",\"2019-05-20\",\"2019-05-21\",\"2019-05-22\",\"2019-05-23\",\"2019-05-24\",\"2019-05-28\",\"2019-05-29\",\"2019-05-30\",\"2019-05-31\",\"2019-06-03\",\"2019-06-04\",\"2019-06-05\",\"2019-06-06\",\"2019-06-07\",\"2019-06-10\",\"2019-06-11\",\"2019-06-12\",\"2019-06-13\",\"2019-06-14\",\"2019-06-17\",\"2019-06-18\",\"2019-06-19\",\"2019-06-20\",\"2019-06-21\",\"2019-06-24\",\"2019-06-25\",\"2019-06-26\",\"2019-06-27\",\"2019-06-28\",\"2019-07-01\",\"2019-07-02\",\"2019-07-03\",\"2019-07-05\",\"2019-07-08\",\"2019-07-09\",\"2019-07-10\",\"2019-07-11\",\"2019-07-12\",\"2019-07-15\",\"2019-07-16\",\"2019-07-17\",\"2019-07-18\",\"2019-07-19\",\"2019-07-22\",\"2019-07-23\",\"2019-07-24\",\"2019-07-25\",\"2019-07-26\",\"2019-07-29\",\"2019-07-30\",\"2019-07-31\",\"2019-08-01\",\"2019-08-02\",\"2019-08-05\",\"2019-08-06\",\"2019-08-07\",\"2019-08-08\",\"2019-08-09\",\"2019-08-12\",\"2019-08-13\",\"2019-08-14\",\"2019-08-15\",\"2019-08-16\",\"2019-08-19\",\"2019-08-20\",\"2019-08-21\",\"2019-08-22\",\"2019-08-23\",\"2019-08-26\",\"2019-08-27\",\"2019-08-28\",\"2019-08-29\",\"2019-08-30\",\"2019-09-03\",\"2019-09-04\",\"2019-09-05\",\"2019-09-06\",\"2019-09-09\",\"2019-09-10\",\"2019-09-11\",\"2019-09-12\",\"2019-09-13\",\"2019-09-16\",\"2019-09-17\",\"2019-09-18\",\"2019-09-19\",\"2019-09-20\",\"2019-09-23\",\"2019-09-24\",\"2019-09-25\",\"2019-09-26\",\"2019-09-27\",\"2019-09-30\",\"2019-10-01\",\"2019-10-02\",\"2019-10-03\",\"2019-10-04\",\"2019-10-07\",\"2019-10-08\",\"2019-10-09\",\"2019-10-10\",\"2019-10-11\",\"2019-10-14\",\"2019-10-15\",\"2019-10-16\",\"2019-10-17\",\"2019-10-18\",\"2019-10-21\",\"2019-10-22\",\"2019-10-23\",\"2019-10-24\",\"2019-10-25\",\"2019-10-28\",\"2019-10-29\",\"2019-10-30\",\"2019-10-31\",\"2019-11-01\",\"2019-11-04\",\"2019-11-05\",\"2019-11-06\",\"2019-11-07\",\"2019-11-08\",\"2019-11-11\",\"2019-11-12\",\"2019-11-13\",\"2019-11-14\",\"2019-11-15\",\"2019-11-18\",\"2019-11-19\",\"2019-11-20\",\"2019-11-21\",\"2019-11-22\",\"2019-11-25\",\"2019-11-26\",\"2019-11-27\",\"2019-11-29\",\"2019-12-02\",\"2019-12-03\",\"2019-12-04\",\"2019-12-05\",\"2019-12-06\",\"2019-12-09\",\"2019-12-10\",\"2019-12-11\",\"2019-12-12\",\"2019-12-13\",\"2019-12-16\",\"2019-12-17\",\"2019-12-18\",\"2019-12-19\",\"2019-12-20\",\"2019-12-23\",\"2019-12-24\",\"2019-12-26\",\"2019-12-27\",\"2019-12-30\",\"2019-12-31\",\"2020-01-02\",\"2020-01-03\",\"2020-01-06\",\"2020-01-07\",\"2020-01-08\",\"2020-01-09\",\"2020-01-10\",\"2020-01-13\",\"2020-01-14\",\"2020-01-15\",\"2020-01-16\",\"2020-01-17\",\"2020-01-21\",\"2020-01-22\",\"2020-01-23\",\"2020-01-24\",\"2020-01-27\",\"2020-01-28\",\"2020-01-29\",\"2020-01-30\",\"2020-01-31\",\"2020-02-03\",\"2020-02-04\",\"2020-02-05\",\"2020-02-06\",\"2020-02-07\",\"2020-02-10\",\"2020-02-11\",\"2020-02-12\",\"2020-02-13\",\"2020-02-14\",\"2020-02-18\",\"2020-02-19\",\"2020-02-20\",\"2020-02-21\",\"2020-02-24\",\"2020-02-25\",\"2020-02-26\",\"2020-02-27\",\"2020-02-28\",\"2020-03-02\",\"2020-03-03\",\"2020-03-04\",\"2020-03-05\",\"2020-03-06\",\"2020-03-09\",\"2020-03-10\",\"2020-03-11\",\"2020-03-12\",\"2020-03-13\",\"2020-03-16\",\"2020-03-17\",\"2020-03-18\",\"2020-03-19\",\"2020-03-20\",\"2020-03-23\",\"2020-03-24\",\"2020-03-25\",\"2020-03-26\",\"2020-03-27\",\"2020-03-30\",\"2020-03-31\",\"2020-04-01\",\"2020-04-02\",\"2020-04-03\",\"2020-04-06\",\"2020-04-07\",\"2020-04-08\",\"2020-04-09\",\"2020-04-13\",\"2020-04-14\",\"2020-04-15\",\"2020-04-16\",\"2020-04-17\",\"2020-04-20\",\"2020-04-21\",\"2020-04-22\",\"2020-04-23\",\"2020-04-24\",\"2020-04-27\",\"2020-04-28\",\"2020-04-29\",\"2020-04-30\",\"2020-05-01\",\"2020-05-04\",\"2020-05-05\",\"2020-05-06\",\"2020-05-07\",\"2020-05-08\",\"2020-05-11\",\"2020-05-12\",\"2020-05-13\",\"2020-05-14\",\"2020-05-15\",\"2020-05-18\",\"2020-05-19\",\"2020-05-20\",\"2020-05-21\",\"2020-05-22\",\"2020-05-26\",\"2020-05-27\",\"2020-05-28\",\"2020-05-29\",\"2020-06-01\",\"2020-06-02\",\"2020-06-03\",\"2020-06-04\",\"2020-06-05\",\"2020-06-08\",\"2020-06-09\",\"2020-06-10\",\"2020-06-11\",\"2020-06-12\",\"2020-06-15\",\"2020-06-16\",\"2020-06-17\",\"2020-06-18\",\"2020-06-19\",\"2020-06-22\",\"2020-06-23\",\"2020-06-24\",\"2020-06-25\",\"2020-06-26\",\"2020-06-29\",\"2020-06-30\",\"2020-07-01\",\"2020-07-02\",\"2020-07-06\",\"2020-07-07\",\"2020-07-08\",\"2020-07-09\",\"2020-07-10\",\"2020-07-13\",\"2020-07-14\",\"2020-07-15\",\"2020-07-16\",\"2020-07-17\",\"2020-07-20\",\"2020-07-21\",\"2020-07-22\",\"2020-07-23\",\"2020-07-24\",\"2020-07-27\",\"2020-07-28\",\"2020-07-29\",\"2020-07-30\",\"2020-07-31\",\"2020-08-03\",\"2020-08-04\",\"2020-08-05\",\"2020-08-06\",\"2020-08-07\",\"2020-08-10\",\"2020-08-11\",\"2020-08-12\",\"2020-08-13\",\"2020-08-14\",\"2020-08-17\",\"2020-08-18\",\"2020-08-19\",\"2020-08-20\",\"2020-08-21\",\"2020-08-24\",\"2020-08-25\",\"2020-08-26\",\"2020-08-27\",\"2020-08-28\",\"2020-08-31\",\"2020-09-01\",\"2020-09-02\",\"2020-09-03\",\"2020-09-04\",\"2020-09-08\",\"2020-09-09\",\"2020-09-10\",\"2020-09-11\",\"2020-09-14\",\"2020-09-15\",\"2020-09-16\",\"2020-09-17\",\"2020-09-18\",\"2020-09-21\",\"2020-09-22\",\"2020-09-23\",\"2020-09-24\",\"2020-09-25\",\"2020-09-28\",\"2020-09-29\",\"2020-09-30\",\"2020-10-01\",\"2020-10-02\",\"2020-10-05\",\"2020-10-06\",\"2020-10-07\",\"2020-10-08\",\"2020-10-09\",\"2020-10-12\",\"2020-10-13\",\"2020-10-14\",\"2020-10-15\",\"2020-10-16\",\"2020-10-19\",\"2020-10-20\",\"2020-10-21\",\"2020-10-22\",\"2020-10-23\",\"2020-10-26\",\"2020-10-27\",\"2020-10-28\",\"2020-10-29\",\"2020-10-30\",\"2020-11-02\",\"2020-11-03\",\"2020-11-04\",\"2020-11-05\",\"2020-11-06\",\"2020-11-09\",\"2020-11-10\",\"2020-11-11\",\"2020-11-12\",\"2020-11-13\",\"2020-11-16\",\"2020-11-17\",\"2020-11-18\",\"2020-11-19\",\"2020-11-20\",\"2020-11-23\",\"2020-11-24\",\"2020-11-25\",\"2020-11-27\",\"2020-11-30\",\"2020-12-01\",\"2020-12-02\",\"2020-12-03\",\"2020-12-04\",\"2020-12-07\",\"2020-12-08\",\"2020-12-09\",\"2020-12-10\",\"2020-12-11\",\"2020-12-14\",\"2020-12-15\",\"2020-12-16\",\"2020-12-17\",\"2020-12-18\",\"2020-12-21\",\"2020-12-22\",\"2020-12-23\",\"2020-12-24\",\"2020-12-28\",\"2020-12-29\",\"2020-12-30\",\"2020-12-31\",\"2021-01-04\",\"2021-01-05\"],\"Variable\":[\"SMA100\",\"SMA100\",\"SMA100\",\"SMA100\",\"SMA100\",\"SMA100\",\"SMA100\",\"SMA100\",\"SMA100\",\"SMA100\",\"SMA100\",\"SMA100\",\"SMA100\",\"SMA100\",\"SMA100\",\"SMA100\",\"SMA100\",\"SMA100\",\"SMA100\",\"SMA100\",\"SMA100\",\"SMA100\",\"SMA100\",\"SMA100\",\"SMA100\",\"SMA100\",\"SMA100\",\"SMA100\",\"SMA100\",\"SMA100\",\"SMA100\",\"SMA100\",\"SMA100\",\"SMA100\",\"SMA100\",\"SMA100\",\"SMA100\",\"SMA100\",\"SMA100\",\"SMA100\",\"SMA100\",\"SMA100\",\"SMA100\",\"SMA100\",\"SMA100\",\"SMA100\",\"SMA100\",\"SMA100\",\"SMA100\",\"SMA100\",\"SMA100\",\"SMA100\",\"SMA100\",\"SMA100\",\"SMA100\",\"SMA100\",\"SMA100\",\"SMA100\",\"SMA100\",\"SMA100\",\"SMA100\",\"SMA100\",\"SMA100\",\"SMA100\",\"SMA100\",\"SMA100\",\"SMA100\",\"SMA100\",\"SMA100\",\"SMA100\",\"SMA100\",\"SMA100\",\"SMA100\",\"SMA100\",\"SMA100\",\"SMA100\",\"SMA100\",\"SMA100\",\"SMA100\",\"SMA100\",\"SMA100\",\"SMA100\",\"SMA100\",\"SMA100\",\"SMA100\",\"SMA100\",\"SMA100\",\"SMA100\",\"SMA100\",\"SMA100\",\"SMA100\",\"SMA100\",\"SMA100\",\"SMA100\",\"SMA100\",\"SMA100\",\"SMA100\",\"SMA100\",\"SMA100\",\"SMA100\",\"SMA100\",\"SMA100\",\"SMA100\",\"SMA100\",\"SMA100\",\"SMA100\",\"SMA100\",\"SMA100\",\"SMA100\",\"SMA100\",\"SMA100\",\"SMA100\",\"SMA100\",\"SMA100\",\"SMA100\",\"SMA100\",\"SMA100\",\"SMA100\",\"SMA100\",\"SMA100\",\"SMA100\",\"SMA100\",\"SMA100\",\"SMA100\",\"SMA100\",\"SMA100\",\"SMA100\",\"SMA100\",\"SMA100\",\"SMA100\",\"SMA100\",\"SMA100\",\"SMA100\",\"SMA100\",\"SMA100\",\"SMA100\",\"SMA100\",\"SMA100\",\"SMA100\",\"SMA100\",\"SMA100\",\"SMA100\",\"SMA100\",\"SMA100\",\"SMA100\",\"SMA100\",\"SMA100\",\"SMA100\",\"SMA100\",\"SMA100\",\"SMA100\",\"SMA100\",\"SMA100\",\"SMA100\",\"SMA100\",\"SMA100\",\"SMA100\",\"SMA100\",\"SMA100\",\"SMA100\",\"SMA100\",\"SMA100\",\"SMA100\",\"SMA100\",\"SMA100\",\"SMA100\",\"SMA100\",\"SMA100\",\"SMA100\",\"SMA100\",\"SMA100\",\"SMA100\",\"SMA100\",\"SMA100\",\"SMA100\",\"SMA100\",\"SMA100\",\"SMA100\",\"SMA100\",\"SMA100\",\"SMA100\",\"SMA100\",\"SMA100\",\"SMA100\",\"SMA100\",\"SMA100\",\"SMA100\",\"SMA100\",\"SMA100\",\"SMA100\",\"SMA100\",\"SMA100\",\"SMA100\",\"SMA100\",\"SMA100\",\"SMA100\",\"SMA100\",\"SMA100\",\"SMA100\",\"SMA100\",\"SMA100\",\"SMA100\",\"SMA100\",\"SMA100\",\"SMA100\",\"SMA100\",\"SMA100\",\"SMA100\",\"SMA100\",\"SMA100\",\"SMA100\",\"SMA100\",\"SMA100\",\"SMA100\",\"SMA100\",\"SMA100\",\"SMA100\",\"SMA100\",\"SMA100\",\"SMA100\",\"SMA100\",\"SMA100\",\"SMA100\",\"SMA100\",\"SMA100\",\"SMA100\",\"SMA100\",\"SMA100\",\"SMA100\",\"SMA100\",\"SMA100\",\"SMA100\",\"SMA100\",\"SMA100\",\"SMA100\",\"SMA100\",\"SMA100\",\"SMA100\",\"SMA100\",\"SMA100\",\"SMA100\",\"SMA100\",\"SMA100\",\"SMA100\",\"SMA100\",\"SMA100\",\"SMA100\",\"SMA100\",\"SMA100\",\"SMA100\",\"SMA100\",\"SMA100\",\"SMA100\",\"SMA100\",\"SMA100\",\"SMA100\",\"SMA100\",\"SMA100\",\"SMA100\",\"SMA100\",\"SMA100\",\"SMA100\",\"SMA100\",\"SMA100\",\"SMA100\",\"SMA100\",\"SMA100\",\"SMA100\",\"SMA100\",\"SMA100\",\"SMA100\",\"SMA100\",\"SMA100\",\"SMA100\",\"SMA100\",\"SMA100\",\"SMA100\",\"SMA100\",\"SMA100\",\"SMA100\",\"SMA100\",\"SMA100\",\"SMA100\",\"SMA100\",\"SMA100\",\"SMA100\",\"SMA100\",\"SMA100\",\"SMA100\",\"SMA100\",\"SMA100\",\"SMA100\",\"SMA100\",\"SMA100\",\"SMA100\",\"SMA100\",\"SMA100\",\"SMA100\",\"SMA100\",\"SMA100\",\"SMA100\",\"SMA100\",\"SMA100\",\"SMA100\",\"SMA100\",\"SMA100\",\"SMA100\",\"SMA100\",\"SMA100\",\"SMA100\",\"SMA100\",\"SMA100\",\"SMA100\",\"SMA100\",\"SMA100\",\"SMA100\",\"SMA100\",\"SMA100\",\"SMA100\",\"SMA100\",\"SMA100\",\"SMA100\",\"SMA100\",\"SMA100\",\"SMA100\",\"SMA100\",\"SMA100\",\"SMA100\",\"SMA100\",\"SMA100\",\"SMA100\",\"SMA100\",\"SMA100\",\"SMA100\",\"SMA100\",\"SMA100\",\"SMA100\",\"SMA100\",\"SMA100\",\"SMA100\",\"SMA100\",\"SMA100\",\"SMA100\",\"SMA100\",\"SMA100\",\"SMA100\",\"SMA100\",\"SMA100\",\"SMA100\",\"SMA100\",\"SMA100\",\"SMA100\",\"SMA100\",\"SMA100\",\"SMA100\",\"SMA100\",\"SMA100\",\"SMA100\",\"SMA100\",\"SMA100\",\"SMA100\",\"SMA100\",\"SMA100\",\"SMA100\",\"SMA100\",\"SMA100\",\"SMA100\",\"SMA100\",\"SMA100\",\"SMA100\",\"SMA100\",\"SMA100\",\"SMA100\",\"SMA100\",\"SMA100\",\"SMA100\",\"SMA100\",\"SMA100\",\"SMA100\",\"SMA100\",\"SMA100\",\"SMA100\",\"SMA100\",\"SMA100\",\"SMA100\",\"SMA100\",\"SMA100\",\"SMA100\",\"SMA100\",\"SMA100\",\"SMA100\",\"SMA100\",\"SMA100\",\"SMA100\",\"SMA100\",\"SMA100\",\"SMA100\",\"SMA100\",\"SMA100\",\"SMA100\",\"SMA100\",\"SMA100\",\"SMA100\",\"SMA100\",\"SMA100\",\"SMA100\",\"SMA100\",\"SMA100\",\"SMA100\",\"SMA100\",\"SMA100\",\"SMA100\",\"SMA100\",\"SMA100\",\"SMA100\",\"SMA100\",\"SMA100\",\"SMA100\",\"SMA100\",\"SMA100\",\"SMA100\",\"SMA100\",\"SMA100\",\"SMA100\",\"SMA100\",\"SMA100\",\"SMA100\",\"SMA100\",\"SMA100\",\"SMA100\",\"SMA100\",\"SMA100\",\"SMA100\",\"SMA100\",\"SMA100\",\"SMA100\",\"SMA100\",\"SMA100\",\"SMA100\",\"SMA100\",\"SMA100\",\"SMA100\",\"SMA100\",\"SMA100\",\"SMA100\",\"SMA100\",\"SMA100\",\"SMA100\",\"SMA100\",\"SMA100\",\"SMA100\",\"SMA100\",\"SMA100\",\"SMA100\",\"SMA100\",\"SMA100\",\"SMA100\",\"SMA100\",\"SMA100\",\"SMA100\",\"SMA100\",\"SMA100\",\"SMA100\",\"SMA100\",\"SMA100\",\"SMA100\",\"SMA100\",\"SMA100\",\"SMA100\",\"SMA100\",\"SMA100\",\"SMA100\",\"SMA100\",\"SMA100\",\"SMA100\",\"SMA100\",\"SMA100\",\"SMA100\",\"SMA100\",\"SMA100\",\"SMA100\",\"SMA100\",\"SMA100\",\"SMA100\",\"SMA100\",\"SMA100\",\"SMA100\",\"SMA100\",\"SMA100\",\"SMA100\",\"SMA100\",\"SMA100\",\"SMA100\",\"SMA100\",\"SMA100\",\"SMA100\",\"SMA100\",\"SMA100\",\"SMA100\",\"SMA100\",\"SMA100\",\"SMA100\",\"SMA100\",\"SMA100\"],\"value\":{\"__ndarray__\":\"AAAAAAAA+H8AAAAAAAD4fwAAAAAAAPh/AAAAAAAA+H8AAAAAAAD4fwAAAAAAAPh/AAAAAAAA+H8AAAAAAAD4fwAAAAAAAPh/AAAAAAAA+H8AAAAAAAD4fwAAAAAAAPh/AAAAAAAA+H8AAAAAAAD4fwAAAAAAAPh/AAAAAAAA+H8AAAAAAAD4fwAAAAAAAPh/AAAAAAAA+H8AAAAAAAD4fwAAAAAAAPh/AAAAAAAA+H8AAAAAAAD4fwAAAAAAAPh/AAAAAAAA+H8AAAAAAAD4fwAAAAAAAPh/AAAAAAAA+H8AAAAAAAD4fwAAAAAAAPh/AAAAAAAA+H8AAAAAAAD4fwAAAAAAAPh/AAAAAAAA+H8AAAAAAAD4fwAAAAAAAPh/AAAAAAAA+H8AAAAAAAD4fwAAAAAAAPh/AAAAAAAA+H8AAAAAAAD4fwAAAAAAAPh/AAAAAAAA+H8AAAAAAAD4fwAAAAAAAPh/AAAAAAAA+H8AAAAAAAD4fwAAAAAAAPh/AAAAAAAA+H8AAAAAAAD4fwAAAAAAAPh/AAAAAAAA+H8AAAAAAAD4fwAAAAAAAPh/AAAAAAAA+H8AAAAAAAD4fwAAAAAAAPh/AAAAAAAA+H8AAAAAAAD4fwAAAAAAAPh/AAAAAAAA+H8AAAAAAAD4fwAAAAAAAPh/AAAAAAAA+H8AAAAAAAD4fwAAAAAAAPh/AAAAAAAA+H8AAAAAAAD4fwAAAAAAAPh/AAAAAAAA+H8AAAAAAAD4fwAAAAAAAPh/AAAAAAAA+H8AAAAAAAD4fwAAAAAAAPh/AAAAAAAA+H8AAAAAAAD4fwAAAAAAAPh/AAAAAAAA+H8AAAAAAAD4fwAAAAAAAPh/AAAAAAAA+H8AAAAAAAD4fwAAAAAAAPh/AAAAAAAA+H8AAAAAAAD4fwAAAAAAAPh/AAAAAAAA+H8AAAAAAAD4fwAAAAAAAPh/AAAAAAAA+H8AAAAAAAD4fwAAAAAAAPh/AAAAAAAA+H8AAAAAAAD4fwAAAAAAAPh/AAAAAAAA+H8AAAAAAAD4fwAAAAAAAPh/KKHLBl+uRkCvCy9WDrdGQC4tC6JFvkZA6sc/lrLGRkAYd3v35M9GQIq8zZdu2kZAbvQprkfnRkAbVsBW7PNGQEYAFn2uAEdApguIe/IMR0CEmAmO5BhHQN9JyXqDJUdAodBw0k0yR0ASDnup8UBHQLHbJXnHTUdAxPMIJJdbR0AIGDzQs2lHQEAQ/zRedEdAMzR1ibB9R0Cut6TVVohHQGkFVbx0kUdAxnpihA2ZR0D7i5jAyqFHQJyFDP32q0dAF5q6RNi2R0Dmc7UV+8FHQNuXK2pNy0dA7kjV2T3VR0DIGA+Ent9HQI/TxxGl6UdAH3ci0gD0R0BABFbtnv5HQNh2DFVSCUhAwXr+DwsTSEAgEgnPGR1IQMBTG94kJkhAgNXc+n4wSEA3zX606jtIQEYluGizRkhA8fDp2qxQSEDUK6h/+1pIQOlnDM47ZkhAjUfL3NdxSEAv16NPr35IQHgnoGgiiEhA2upzlIePSED4jvpOQJNIQEQOImN/l0hASmkWy6GbSECmhvUtkKBIQEPgOL4wpUhA5Egu/yGpSEBdWPYLk61IQAiTqYJRsUhAZCJseHq1SEDX1j8dybtIQKFVRobJwkhA+LD3RbbJSEBTGdcJ+dBIQKQZlGHD10hAXT3/h4XaSECWXKUeFt5IQKqba/vL4EhA02Z8wobjSECBPHqqYOZIQOD6Z5tV6UhAQE+6wvXqSEDmpUKfPO5IQMWK8hbZ8khA5X5fbVb3SEDqkHOsHPxIQPNfz1N0AElAatbQm8QGSUBDoSQLtQxJQB3jQUhQEElAxaYr8WMUSUCYzuwlUxlJQOBA5jU8H0lAqVBrmnckSUBtbXco7SlJQJK82OaMLElAvIfprUcvSUDvKZ7lPzJJQKayvprmNUlA5TNfDAI7SUCRT3cawEFJQMWHkIhjSUlANBCbwFtQSUD9HyAll1tJQGPtv8bcZ0lAnAxmXW1zSUAUGczbaH5JQHvus0aUiklAUpIkhJ6ZSUDIA0CRfqlJQIO4KbN7uklAlNAMXkvMSUCDliy8Bd5JQNhbeUVH8ElAX7ZMAisDSkAvHmRAExdKQCrqUgrXK0pAusvjmzNCSkC67eCSqVZKQE/sL7sna0pADIdkr5R/SkASKvfplZBKQB/kg57NoEpAROoENBGySkCddOHuycVKQD8o15AP2kpA3WQDZaruSkBDMqMG8AJLQO7b14FzFktAvCLQqmAqS0ChzA9UdD5LQCANhwisUktA0/f6vcFnS0CdmP4dOH1LQE6giY9TkktAm2w1seGnS0CI6DKQwr1LQKwQsRx80UtAjR+mVHTkS0Dg3KoU0PZLQGGU65ayCkxAZDKYlkMfTECgo6h1kzRMQPb5c/oPSUxAZaEZmwhdTEAKqx1qAG9MQIhSzlkXgUxAjvL+BaOUTEAPXz8nMapMQB8Du5LLvUxADtSESOHSTEDW+lxMN+dMQHKZ3CBB+0xAhPJXK4cQTUC633A41idNQNSfzFgXP01AT5J9qYJVTUAX21KkTmxNQCzZgCGOgU1AE/9v07yZTUAf+pTnarNNQCalb+tR0k1AfY49GATwTUDXf1MOnA1OQEZO3OB6Kk5AnfErc0ZKTkAqp/OXTGlOQBuZ3GJdhk5A9rteN/ikTkBO9RIAb8VOQIn6A2lv5k5ADWwqxW0GT0AWqgdxiihPQFwUubeNSE9AzXBe9zFoT0AoZ1ooOoxPQD/77NsksE9AraKSfB3UT0DlDDl0AvhPQPwTv9ajDVBAD75i0ysfUEAZA0bysC9QQKjFOxsNQVBA4XeyH9JSUECSWZy1hGRQQDyTDdbFc1BAOGOghHyCUEBF/D9eupFQQOt0xTF3oVBAgXCyy3+yUEDSAe4ehcJQQITove+n0lBAw8+HgCbiUEDfALcXJvNQQNOPCoxKBFFA0K5zukkVUUBJLb3LfyVRQPi/0OHpNVFAQOjZrPpFUUCwaM5VDlVRQOrU+PntYFFADF/KhhZrUUCv8kbe4HZRQKqSnnVPf1FAdjd49LmGUUCK5b/VNJJRQKvhdPWXnFFA7yRDCrWoUUBIGbuOwrJRQK17fRA2u1FAzJkvJw/AUUDPesb4D8hRQNT5CcqhzlFAXcqWOLTQUUARkbuEWtdRQOqHpiag11FATeHeiLDZUUDxxEF8P9pRQMY9K6Nw2lFAh+ghZKrXUUCG5H1/t9NRQK/5fotK1FFAesFlHafUUUAUX6ObM9ZRQAjKp6bo1FFADknrd3rUUUBqHzwkBtRRQMRe5kNp0VFADEBhWBfPUUAOIfgpGMxRQOil/zgjzFFAfJwGmLvLUUDRYVMh/ctRQITa40PYzFFAfAgmDgvOUUBs0dk0PNFRQDeWXjgj1FFALb+6x+XXUUCxXHhWOdtRQKR4puGl3VFAXJcrzffdUUDi8f6J299RQPv3pgoC4VFA4abM7oXjUUDzTy6VkOZRQN+ehCWg6VFAdFKhssjtUUBaAceWTPJRQDOtf5089VFAK9vBZ2/5UUDhgn2FFv5RQF2fc5bdAlJAv9HIxgcIUkBWisuOoA1SQLe/gk1AE1JA4BsSEDYYUkDk4KFBrRxSQEEtemVmIVJAL2DJVewlUkAYFNV04CpSQDtjBPl+L1JAyI+V6y80UkDEGJrjgzhSQN2QJffkPFJAbn+yUpZAUkARD4vFbUNSQA95Jo/CRlJAFiQBk6lJUkDMpNl+ak1SQIqN1NajUFJAZDYrTx5TUkDuEqRrCVVSQOfZrPpcV1JApJvEILBaUkArQcp46V9SQK9yaJHtZVJAXI6y2axoUkDgvO5jO2xSQIPfl0RHcFJAnb6OzYh1UkBbgKbz23pSQASUdji0gVJAx2VQK9SGUkC4WpuEWoxSQBOfK98tk1JAyWo2ZkSbUkCDHyCIQaRSQIP70B7SqVJAzSxkCUawUkDNd5akm7ZSQOqFuCipvVJA+tufanjEUkBDnn8WJs1SQOgTo1tt1FJAv7cTmXfdUkDku0K8weZSQC0zIgcb8VJAJvoqlm76UkCXqRgATQVTQFjljbzBEVNAvQDCh9IfU0C2WEkSYS9TQEHnLQWBP1NA9iQcH9JRU0DflT1sVmRTQL967ePyb1NAOIdTYu58U0BDXvfSK4lTQFhXcU/8lVNApCHL/pCkU0AWqgdxirdTQJ7o043kzVNAVHH0QovnU0BBx1BGAwZUQG/GckP6H1RAY3RhIB9CVEA60UOnxmBUQJzj7VJ0gVRAO7GYIkqgVEDSZfcF8MNUQOTDJhGl6VRAu2eXTq8LVUADkKAZwC1VQOCyVChcTlVAOA9IPsZwVUCSLPVms5NVQL9OJHeculVAwS+7SJ3kVUBX4HVHUA1WQKFXVZKpN1ZA6KJrcKxdVkC7z+ClCoRWQMgVOFUOrFZAiU5Lgw3XVkAoGZTEbf9WQGCA2C3dHldAagxKA8U+V0BsV3yeGllXQA3nItfwdldAyqg6/UOTV0ByAleiAbBXQCpsDimpzVdABfldAZrrV0AhK8/uFgZYQFva42RmH1hAZo04bDQ3WEAWIEyCnk9YQJaMWmkraFhABX8ypXl+WECPnpWT1JRYQKS7XnkUrVhAeMEit43GWEBlOr4H+d5YQI2yVGp491hAmEOsetAPWUADRV1SUiZZQAZSi1aoP1lAzFTito1WWUC6ruKe+G5ZQOC6WYsohllA0yG6seqeWUANQ7K6dLtZQBrXnZND1llAjDuLnM3wWUCaPvh5YQtaQDzThO2nJFpA6MpNkvY7WkAlG3GWTFRaQI9qtpeZa1pA1gD/EPKBWkCvQhxOjZdaQA+7vd6crVpAXWauXzLDWkBzXyjcAtVaQKkwCA/H51pAJlLkWv70WkAj2IbE3ARbQGoHlgJWFVtA9HErjAYoW0Daiuw53ztbQOroG0WUT1tATvwHR79hW0DmSm9FA3RbQAUbjTIRh1tAuuGxfreYW0DWhQb/bqtbQPYSOhoNvltAVDhhRuHRW0AOohjNiONbQA2dMpIY9VtAsQ1wnO8FXECKT43ZihRcQErO7GdvIlxAdsDgYBAxXEANmH6RqT5cQBzHgqGSTVxAcdIbi7leXEBxh+nvY3BcQHFjmob0gFxABDO+s6aQXED4EOinE6JcQODE88YHtFxAnTvZUQXDXEApYCJ70NNcQBoSgwLn41xAyl5KuGv2XEDR3Y2J/QxdQFbJ30EcIl1AaimT+cs4XUByH6CYCE1dQKEbYAeKYV1ABaEvnO9xXUA3+xPHB4BdQBPTlTpOjl1AJXz34FifXUDYsZ0xxKxdQKYUzzQ8u11AIG/J3ALIXUB40sJl1dRdQO/6L4Ra4F1A\",\"dtype\":\"float64\",\"shape\":[504]}},\"selected\":{\"id\":\"1791\"},\"selection_policy\":{\"id\":\"1819\"}},\"id\":\"1790\",\"type\":\"ColumnDataSource\"},{\"attributes\":{\"data\":{\"Date\":[\"2019-01-07\",\"2019-01-08\",\"2019-01-09\",\"2019-01-10\",\"2019-01-11\",\"2019-01-14\",\"2019-01-15\",\"2019-01-16\",\"2019-01-17\",\"2019-01-18\",\"2019-01-22\",\"2019-01-23\",\"2019-01-24\",\"2019-01-25\",\"2019-01-28\",\"2019-01-29\",\"2019-01-30\",\"2019-01-31\",\"2019-02-01\",\"2019-02-04\",\"2019-02-05\",\"2019-02-06\",\"2019-02-07\",\"2019-02-08\",\"2019-02-11\",\"2019-02-12\",\"2019-02-13\",\"2019-02-14\",\"2019-02-15\",\"2019-02-19\",\"2019-02-20\",\"2019-02-21\",\"2019-02-22\",\"2019-02-25\",\"2019-02-26\",\"2019-02-27\",\"2019-02-28\",\"2019-03-01\",\"2019-03-04\",\"2019-03-05\",\"2019-03-06\",\"2019-03-07\",\"2019-03-08\",\"2019-03-11\",\"2019-03-12\",\"2019-03-13\",\"2019-03-14\",\"2019-03-15\",\"2019-03-18\",\"2019-03-19\",\"2019-03-20\",\"2019-03-21\",\"2019-03-22\",\"2019-03-25\",\"2019-03-26\",\"2019-03-27\",\"2019-03-28\",\"2019-03-29\",\"2019-04-01\",\"2019-04-02\",\"2019-04-03\",\"2019-04-04\",\"2019-04-05\",\"2019-04-08\",\"2019-04-09\",\"2019-04-10\",\"2019-04-11\",\"2019-04-12\",\"2019-04-15\",\"2019-04-16\",\"2019-04-17\",\"2019-04-18\",\"2019-04-22\",\"2019-04-23\",\"2019-04-24\",\"2019-04-25\",\"2019-04-26\",\"2019-04-29\",\"2019-04-30\",\"2019-05-01\",\"2019-05-02\",\"2019-05-03\",\"2019-05-06\",\"2019-05-07\",\"2019-05-08\",\"2019-05-09\",\"2019-05-10\",\"2019-05-13\",\"2019-05-14\",\"2019-05-15\",\"2019-05-16\",\"2019-05-17\",\"2019-05-20\",\"2019-05-21\",\"2019-05-22\",\"2019-05-23\",\"2019-05-24\",\"2019-05-28\",\"2019-05-29\",\"2019-05-30\",\"2019-05-31\",\"2019-06-03\",\"2019-06-04\",\"2019-06-05\",\"2019-06-06\",\"2019-06-07\",\"2019-06-10\",\"2019-06-11\",\"2019-06-12\",\"2019-06-13\",\"2019-06-14\",\"2019-06-17\",\"2019-06-18\",\"2019-06-19\",\"2019-06-20\",\"2019-06-21\",\"2019-06-24\",\"2019-06-25\",\"2019-06-26\",\"2019-06-27\",\"2019-06-28\",\"2019-07-01\",\"2019-07-02\",\"2019-07-03\",\"2019-07-05\",\"2019-07-08\",\"2019-07-09\",\"2019-07-10\",\"2019-07-11\",\"2019-07-12\",\"2019-07-15\",\"2019-07-16\",\"2019-07-17\",\"2019-07-18\",\"2019-07-19\",\"2019-07-22\",\"2019-07-23\",\"2019-07-24\",\"2019-07-25\",\"2019-07-26\",\"2019-07-29\",\"2019-07-30\",\"2019-07-31\",\"2019-08-01\",\"2019-08-02\",\"2019-08-05\",\"2019-08-06\",\"2019-08-07\",\"2019-08-08\",\"2019-08-09\",\"2019-08-12\",\"2019-08-13\",\"2019-08-14\",\"2019-08-15\",\"2019-08-16\",\"2019-08-19\",\"2019-08-20\",\"2019-08-21\",\"2019-08-22\",\"2019-08-23\",\"2019-08-26\",\"2019-08-27\",\"2019-08-28\",\"2019-08-29\",\"2019-08-30\",\"2019-09-03\",\"2019-09-04\",\"2019-09-05\",\"2019-09-06\",\"2019-09-09\",\"2019-09-10\",\"2019-09-11\",\"2019-09-12\",\"2019-09-13\",\"2019-09-16\",\"2019-09-17\",\"2019-09-18\",\"2019-09-19\",\"2019-09-20\",\"2019-09-23\",\"2019-09-24\",\"2019-09-25\",\"2019-09-26\",\"2019-09-27\",\"2019-09-30\",\"2019-10-01\",\"2019-10-02\",\"2019-10-03\",\"2019-10-04\",\"2019-10-07\",\"2019-10-08\",\"2019-10-09\",\"2019-10-10\",\"2019-10-11\",\"2019-10-14\",\"2019-10-15\",\"2019-10-16\",\"2019-10-17\",\"2019-10-18\",\"2019-10-21\",\"2019-10-22\",\"2019-10-23\",\"2019-10-24\",\"2019-10-25\",\"2019-10-28\",\"2019-10-29\",\"2019-10-30\",\"2019-10-31\",\"2019-11-01\",\"2019-11-04\",\"2019-11-05\",\"2019-11-06\",\"2019-11-07\",\"2019-11-08\",\"2019-11-11\",\"2019-11-12\",\"2019-11-13\",\"2019-11-14\",\"2019-11-15\",\"2019-11-18\",\"2019-11-19\",\"2019-11-20\",\"2019-11-21\",\"2019-11-22\",\"2019-11-25\",\"2019-11-26\",\"2019-11-27\",\"2019-11-29\",\"2019-12-02\",\"2019-12-03\",\"2019-12-04\",\"2019-12-05\",\"2019-12-06\",\"2019-12-09\",\"2019-12-10\",\"2019-12-11\",\"2019-12-12\",\"2019-12-13\",\"2019-12-16\",\"2019-12-17\",\"2019-12-18\",\"2019-12-19\",\"2019-12-20\",\"2019-12-23\",\"2019-12-24\",\"2019-12-26\",\"2019-12-27\",\"2019-12-30\",\"2019-12-31\",\"2020-01-02\",\"2020-01-03\",\"2020-01-06\",\"2020-01-07\",\"2020-01-08\",\"2020-01-09\",\"2020-01-10\",\"2020-01-13\",\"2020-01-14\",\"2020-01-15\",\"2020-01-16\",\"2020-01-17\",\"2020-01-21\",\"2020-01-22\",\"2020-01-23\",\"2020-01-24\",\"2020-01-27\",\"2020-01-28\",\"2020-01-29\",\"2020-01-30\",\"2020-01-31\",\"2020-02-03\",\"2020-02-04\",\"2020-02-05\",\"2020-02-06\",\"2020-02-07\",\"2020-02-10\",\"2020-02-11\",\"2020-02-12\",\"2020-02-13\",\"2020-02-14\",\"2020-02-18\",\"2020-02-19\",\"2020-02-20\",\"2020-02-21\",\"2020-02-24\",\"2020-02-25\",\"2020-02-26\",\"2020-02-27\",\"2020-02-28\",\"2020-03-02\",\"2020-03-03\",\"2020-03-04\",\"2020-03-05\",\"2020-03-06\",\"2020-03-09\",\"2020-03-10\",\"2020-03-11\",\"2020-03-12\",\"2020-03-13\",\"2020-03-16\",\"2020-03-17\",\"2020-03-18\",\"2020-03-19\",\"2020-03-20\",\"2020-03-23\",\"2020-03-24\",\"2020-03-25\",\"2020-03-26\",\"2020-03-27\",\"2020-03-30\",\"2020-03-31\",\"2020-04-01\",\"2020-04-02\",\"2020-04-03\",\"2020-04-06\",\"2020-04-07\",\"2020-04-08\",\"2020-04-09\",\"2020-04-13\",\"2020-04-14\",\"2020-04-15\",\"2020-04-16\",\"2020-04-17\",\"2020-04-20\",\"2020-04-21\",\"2020-04-22\",\"2020-04-23\",\"2020-04-24\",\"2020-04-27\",\"2020-04-28\",\"2020-04-29\",\"2020-04-30\",\"2020-05-01\",\"2020-05-04\",\"2020-05-05\",\"2020-05-06\",\"2020-05-07\",\"2020-05-08\",\"2020-05-11\",\"2020-05-12\",\"2020-05-13\",\"2020-05-14\",\"2020-05-15\",\"2020-05-18\",\"2020-05-19\",\"2020-05-20\",\"2020-05-21\",\"2020-05-22\",\"2020-05-26\",\"2020-05-27\",\"2020-05-28\",\"2020-05-29\",\"2020-06-01\",\"2020-06-02\",\"2020-06-03\",\"2020-06-04\",\"2020-06-05\",\"2020-06-08\",\"2020-06-09\",\"2020-06-10\",\"2020-06-11\",\"2020-06-12\",\"2020-06-15\",\"2020-06-16\",\"2020-06-17\",\"2020-06-18\",\"2020-06-19\",\"2020-06-22\",\"2020-06-23\",\"2020-06-24\",\"2020-06-25\",\"2020-06-26\",\"2020-06-29\",\"2020-06-30\",\"2020-07-01\",\"2020-07-02\",\"2020-07-06\",\"2020-07-07\",\"2020-07-08\",\"2020-07-09\",\"2020-07-10\",\"2020-07-13\",\"2020-07-14\",\"2020-07-15\",\"2020-07-16\",\"2020-07-17\",\"2020-07-20\",\"2020-07-21\",\"2020-07-22\",\"2020-07-23\",\"2020-07-24\",\"2020-07-27\",\"2020-07-28\",\"2020-07-29\",\"2020-07-30\",\"2020-07-31\",\"2020-08-03\",\"2020-08-04\",\"2020-08-05\",\"2020-08-06\",\"2020-08-07\",\"2020-08-10\",\"2020-08-11\",\"2020-08-12\",\"2020-08-13\",\"2020-08-14\",\"2020-08-17\",\"2020-08-18\",\"2020-08-19\",\"2020-08-20\",\"2020-08-21\",\"2020-08-24\",\"2020-08-25\",\"2020-08-26\",\"2020-08-27\",\"2020-08-28\",\"2020-08-31\",\"2020-09-01\",\"2020-09-02\",\"2020-09-03\",\"2020-09-04\",\"2020-09-08\",\"2020-09-09\",\"2020-09-10\",\"2020-09-11\",\"2020-09-14\",\"2020-09-15\",\"2020-09-16\",\"2020-09-17\",\"2020-09-18\",\"2020-09-21\",\"2020-09-22\",\"2020-09-23\",\"2020-09-24\",\"2020-09-25\",\"2020-09-28\",\"2020-09-29\",\"2020-09-30\",\"2020-10-01\",\"2020-10-02\",\"2020-10-05\",\"2020-10-06\",\"2020-10-07\",\"2020-10-08\",\"2020-10-09\",\"2020-10-12\",\"2020-10-13\",\"2020-10-14\",\"2020-10-15\",\"2020-10-16\",\"2020-10-19\",\"2020-10-20\",\"2020-10-21\",\"2020-10-22\",\"2020-10-23\",\"2020-10-26\",\"2020-10-27\",\"2020-10-28\",\"2020-10-29\",\"2020-10-30\",\"2020-11-02\",\"2020-11-03\",\"2020-11-04\",\"2020-11-05\",\"2020-11-06\",\"2020-11-09\",\"2020-11-10\",\"2020-11-11\",\"2020-11-12\",\"2020-11-13\",\"2020-11-16\",\"2020-11-17\",\"2020-11-18\",\"2020-11-19\",\"2020-11-20\",\"2020-11-23\",\"2020-11-24\",\"2020-11-25\",\"2020-11-27\",\"2020-11-30\",\"2020-12-01\",\"2020-12-02\",\"2020-12-03\",\"2020-12-04\",\"2020-12-07\",\"2020-12-08\",\"2020-12-09\",\"2020-12-10\",\"2020-12-11\",\"2020-12-14\",\"2020-12-15\",\"2020-12-16\",\"2020-12-17\",\"2020-12-18\",\"2020-12-21\",\"2020-12-22\",\"2020-12-23\",\"2020-12-24\",\"2020-12-28\",\"2020-12-29\",\"2020-12-30\",\"2020-12-31\",\"2021-01-04\",\"2021-01-05\"],\"Variable\":[\"Close\",\"Close\",\"Close\",\"Close\",\"Close\",\"Close\",\"Close\",\"Close\",\"Close\",\"Close\",\"Close\",\"Close\",\"Close\",\"Close\",\"Close\",\"Close\",\"Close\",\"Close\",\"Close\",\"Close\",\"Close\",\"Close\",\"Close\",\"Close\",\"Close\",\"Close\",\"Close\",\"Close\",\"Close\",\"Close\",\"Close\",\"Close\",\"Close\",\"Close\",\"Close\",\"Close\",\"Close\",\"Close\",\"Close\",\"Close\",\"Close\",\"Close\",\"Close\",\"Close\",\"Close\",\"Close\",\"Close\",\"Close\",\"Close\",\"Close\",\"Close\",\"Close\",\"Close\",\"Close\",\"Close\",\"Close\",\"Close\",\"Close\",\"Close\",\"Close\",\"Close\",\"Close\",\"Close\",\"Close\",\"Close\",\"Close\",\"Close\",\"Close\",\"Close\",\"Close\",\"Close\",\"Close\",\"Close\",\"Close\",\"Close\",\"Close\",\"Close\",\"Close\",\"Close\",\"Close\",\"Close\",\"Close\",\"Close\",\"Close\",\"Close\",\"Close\",\"Close\",\"Close\",\"Close\",\"Close\",\"Close\",\"Close\",\"Close\",\"Close\",\"Close\",\"Close\",\"Close\",\"Close\",\"Close\",\"Close\",\"Close\",\"Close\",\"Close\",\"Close\",\"Close\",\"Close\",\"Close\",\"Close\",\"Close\",\"Close\",\"Close\",\"Close\",\"Close\",\"Close\",\"Close\",\"Close\",\"Close\",\"Close\",\"Close\",\"Close\",\"Close\",\"Close\",\"Close\",\"Close\",\"Close\",\"Close\",\"Close\",\"Close\",\"Close\",\"Close\",\"Close\",\"Close\",\"Close\",\"Close\",\"Close\",\"Close\",\"Close\",\"Close\",\"Close\",\"Close\",\"Close\",\"Close\",\"Close\",\"Close\",\"Close\",\"Close\",\"Close\",\"Close\",\"Close\",\"Close\",\"Close\",\"Close\",\"Close\",\"Close\",\"Close\",\"Close\",\"Close\",\"Close\",\"Close\",\"Close\",\"Close\",\"Close\",\"Close\",\"Close\",\"Close\",\"Close\",\"Close\",\"Close\",\"Close\",\"Close\",\"Close\",\"Close\",\"Close\",\"Close\",\"Close\",\"Close\",\"Close\",\"Close\",\"Close\",\"Close\",\"Close\",\"Close\",\"Close\",\"Close\",\"Close\",\"Close\",\"Close\",\"Close\",\"Close\",\"Close\",\"Close\",\"Close\",\"Close\",\"Close\",\"Close\",\"Close\",\"Close\",\"Close\",\"Close\",\"Close\",\"Close\",\"Close\",\"Close\",\"Close\",\"Close\",\"Close\",\"Close\",\"Close\",\"Close\",\"Close\",\"Close\",\"Close\",\"Close\",\"Close\",\"Close\",\"Close\",\"Close\",\"Close\",\"Close\",\"Close\",\"Close\",\"Close\",\"Close\",\"Close\",\"Close\",\"Close\",\"Close\",\"Close\",\"Close\",\"Close\",\"Close\",\"Close\",\"Close\",\"Close\",\"Close\",\"Close\",\"Close\",\"Close\",\"Close\",\"Close\",\"Close\",\"Close\",\"Close\",\"Close\",\"Close\",\"Close\",\"Close\",\"Close\",\"Close\",\"Close\",\"Close\",\"Close\",\"Close\",\"Close\",\"Close\",\"Close\",\"Close\",\"Close\",\"Close\",\"Close\",\"Close\",\"Close\",\"Close\",\"Close\",\"Close\",\"Close\",\"Close\",\"Close\",\"Close\",\"Close\",\"Close\",\"Close\",\"Close\",\"Close\",\"Close\",\"Close\",\"Close\",\"Close\",\"Close\",\"Close\",\"Close\",\"Close\",\"Close\",\"Close\",\"Close\",\"Close\",\"Close\",\"Close\",\"Close\",\"Close\",\"Close\",\"Close\",\"Close\",\"Close\",\"Close\",\"Close\",\"Close\",\"Close\",\"Close\",\"Close\",\"Close\",\"Close\",\"Close\",\"Close\",\"Close\",\"Close\",\"Close\",\"Close\",\"Close\",\"Close\",\"Close\",\"Close\",\"Close\",\"Close\",\"Close\",\"Close\",\"Close\",\"Close\",\"Close\",\"Close\",\"Close\",\"Close\",\"Close\",\"Close\",\"Close\",\"Close\",\"Close\",\"Close\",\"Close\",\"Close\",\"Close\",\"Close\",\"Close\",\"Close\",\"Close\",\"Close\",\"Close\",\"Close\",\"Close\",\"Close\",\"Close\",\"Close\",\"Close\",\"Close\",\"Close\",\"Close\",\"Close\",\"Close\",\"Close\",\"Close\",\"Close\",\"Close\",\"Close\",\"Close\",\"Close\",\"Close\",\"Close\",\"Close\",\"Close\",\"Close\",\"Close\",\"Close\",\"Close\",\"Close\",\"Close\",\"Close\",\"Close\",\"Close\",\"Close\",\"Close\",\"Close\",\"Close\",\"Close\",\"Close\",\"Close\",\"Close\",\"Close\",\"Close\",\"Close\",\"Close\",\"Close\",\"Close\",\"Close\",\"Close\",\"Close\",\"Close\",\"Close\",\"Close\",\"Close\",\"Close\",\"Close\",\"Close\",\"Close\",\"Close\",\"Close\",\"Close\",\"Close\",\"Close\",\"Close\",\"Close\",\"Close\",\"Close\",\"Close\",\"Close\",\"Close\",\"Close\",\"Close\",\"Close\",\"Close\",\"Close\",\"Close\",\"Close\",\"Close\",\"Close\",\"Close\",\"Close\",\"Close\",\"Close\",\"Close\",\"Close\",\"Close\",\"Close\",\"Close\",\"Close\",\"Close\",\"Close\",\"Close\",\"Close\",\"Close\",\"Close\",\"Close\",\"Close\",\"Close\",\"Close\",\"Close\",\"Close\",\"Close\",\"Close\",\"Close\",\"Close\",\"Close\",\"Close\",\"Close\",\"Close\",\"Close\",\"Close\",\"Close\",\"Close\",\"Close\",\"Close\",\"Close\",\"Close\",\"Close\",\"Close\",\"Close\",\"Close\",\"Close\",\"Close\",\"Close\",\"Close\",\"Close\",\"Close\",\"Close\",\"Close\",\"Close\",\"Close\",\"Close\",\"Close\",\"Close\",\"Close\",\"Close\",\"Close\",\"Close\",\"Close\",\"Close\",\"Close\",\"Close\",\"Close\",\"Close\",\"Close\",\"Close\",\"Close\",\"Close\",\"Close\",\"Close\",\"Close\",\"Close\",\"Close\",\"Close\",\"Close\",\"Close\",\"Close\",\"Close\",\"Close\",\"Close\",\"Close\",\"Close\",\"Close\",\"Close\",\"Close\",\"Close\",\"Close\",\"Close\",\"Close\"],\"value\":{\"__ndarray__\":\"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\",\"dtype\":\"float64\",\"shape\":[504]}},\"selected\":{\"id\":\"1758\"},\"selection_policy\":{\"id\":\"1787\"}},\"id\":\"1757\",\"type\":\"ColumnDataSource\"},{\"attributes\":{},\"id\":\"1744\",\"type\":\"ResetTool\"},{\"attributes\":{\"children\":[{\"id\":\"1718\"},{\"id\":\"1724\"},{\"id\":\"1905\"}],\"margin\":[0,0,0,0],\"name\":\"Row04076\",\"tags\":[\"embedded\"]},\"id\":\"1717\",\"type\":\"Row\"},{\"attributes\":{\"margin\":[5,5,5,5],\"name\":\"HSpacer04081\",\"sizing_mode\":\"stretch_width\"},\"id\":\"1905\",\"type\":\"Spacer\"},{\"attributes\":{\"source\":{\"id\":\"1757\"}},\"id\":\"1764\",\"type\":\"CDSView\"},{\"attributes\":{\"line_alpha\":0.2,\"line_color\":\"#1f77b3\",\"line_width\":2,\"x\":{\"field\":\"Date\"},\"y\":{\"field\":\"value\"}},\"id\":\"1762\",\"type\":\"Line\"},{\"attributes\":{\"line_alpha\":0.2,\"line_color\":\"#ff7e0e\",\"line_width\":2,\"x\":{\"field\":\"Date\"},\"y\":{\"field\":\"value\"}},\"id\":\"1778\",\"type\":\"Line\"},{\"attributes\":{\"overlay\":{\"id\":\"1745\"}},\"id\":\"1743\",\"type\":\"BoxZoomTool\"},{\"attributes\":{\"line_alpha\":0.1,\"line_color\":\"#1f77b3\",\"line_width\":2,\"x\":{\"field\":\"Date\"},\"y\":{\"field\":\"value\"}},\"id\":\"1761\",\"type\":\"Line\"},{\"attributes\":{},\"id\":\"1819\",\"type\":\"UnionRenderers\"},{\"attributes\":{\"data\":{\"Date\":[\"2019-01-07\",\"2019-01-08\",\"2019-01-09\",\"2019-01-10\",\"2019-01-11\",\"2019-01-14\",\"2019-01-15\",\"2019-01-16\",\"2019-01-17\",\"2019-01-18\",\"2019-01-22\",\"2019-01-23\",\"2019-01-24\",\"2019-01-25\",\"2019-01-28\",\"2019-01-29\",\"2019-01-30\",\"2019-01-31\",\"2019-02-01\",\"2019-02-04\",\"2019-02-05\",\"2019-02-06\",\"2019-02-07\",\"2019-02-08\",\"2019-02-11\",\"2019-02-12\",\"2019-02-13\",\"2019-02-14\",\"2019-02-15\",\"2019-02-19\",\"2019-02-20\",\"2019-02-21\",\"2019-02-22\",\"2019-02-25\",\"2019-02-26\",\"2019-02-27\",\"2019-02-28\",\"2019-03-01\",\"2019-03-04\",\"2019-03-05\",\"2019-03-06\",\"2019-03-07\",\"2019-03-08\",\"2019-03-11\",\"2019-03-12\",\"2019-03-13\",\"2019-03-14\",\"2019-03-15\",\"2019-03-18\",\"2019-03-19\",\"2019-03-20\",\"2019-03-21\",\"2019-03-22\",\"2019-03-25\",\"2019-03-26\",\"2019-03-27\",\"2019-03-28\",\"2019-03-29\",\"2019-04-01\",\"2019-04-02\",\"2019-04-03\",\"2019-04-04\",\"2019-04-05\",\"2019-04-08\",\"2019-04-09\",\"2019-04-10\",\"2019-04-11\",\"2019-04-12\",\"2019-04-15\",\"2019-04-16\",\"2019-04-17\",\"2019-04-18\",\"2019-04-22\",\"2019-04-23\",\"2019-04-24\",\"2019-04-25\",\"2019-04-26\",\"2019-04-29\",\"2019-04-30\",\"2019-05-01\",\"2019-05-02\",\"2019-05-03\",\"2019-05-06\",\"2019-05-07\",\"2019-05-08\",\"2019-05-09\",\"2019-05-10\",\"2019-05-13\",\"2019-05-14\",\"2019-05-15\",\"2019-05-16\",\"2019-05-17\",\"2019-05-20\",\"2019-05-21\",\"2019-05-22\",\"2019-05-23\",\"2019-05-24\",\"2019-05-28\",\"2019-05-29\",\"2019-05-30\",\"2019-05-31\",\"2019-06-03\",\"2019-06-04\",\"2019-06-05\",\"2019-06-06\",\"2019-06-07\",\"2019-06-10\",\"2019-06-11\",\"2019-06-12\",\"2019-06-13\",\"2019-06-14\",\"2019-06-17\",\"2019-06-18\",\"2019-06-19\",\"2019-06-20\",\"2019-06-21\",\"2019-06-24\",\"2019-06-25\",\"2019-06-26\",\"2019-06-27\",\"2019-06-28\",\"2019-07-01\",\"2019-07-02\",\"2019-07-03\",\"2019-07-05\",\"2019-07-08\",\"2019-07-09\",\"2019-07-10\",\"2019-07-11\",\"2019-07-12\",\"2019-07-15\",\"2019-07-16\",\"2019-07-17\",\"2019-07-18\",\"2019-07-19\",\"2019-07-22\",\"2019-07-23\",\"2019-07-24\",\"2019-07-25\",\"2019-07-26\",\"2019-07-29\",\"2019-07-30\",\"2019-07-31\",\"2019-08-01\",\"2019-08-02\",\"2019-08-05\",\"2019-08-06\",\"2019-08-07\",\"2019-08-08\",\"2019-08-09\",\"2019-08-12\",\"2019-08-13\",\"2019-08-14\",\"2019-08-15\",\"2019-08-16\",\"2019-08-19\",\"2019-08-20\",\"2019-08-21\",\"2019-08-22\",\"2019-08-23\",\"2019-08-26\",\"2019-08-27\",\"2019-08-28\",\"2019-08-29\",\"2019-08-30\",\"2019-09-03\",\"2019-09-04\",\"2019-09-05\",\"2019-09-06\",\"2019-09-09\",\"2019-09-10\",\"2019-09-11\",\"2019-09-12\",\"2019-09-13\",\"2019-09-16\",\"2019-09-17\",\"2019-09-18\",\"2019-09-19\",\"2019-09-20\",\"2019-09-23\",\"2019-09-24\",\"2019-09-25\",\"2019-09-26\",\"2019-09-27\",\"2019-09-30\",\"2019-10-01\",\"2019-10-02\",\"2019-10-03\",\"2019-10-04\",\"2019-10-07\",\"2019-10-08\",\"2019-10-09\",\"2019-10-10\",\"2019-10-11\",\"2019-10-14\",\"2019-10-15\",\"2019-10-16\",\"2019-10-17\",\"2019-10-18\",\"2019-10-21\",\"2019-10-22\",\"2019-10-23\",\"2019-10-24\",\"2019-10-25\",\"2019-10-28\",\"2019-10-29\",\"2019-10-30\",\"2019-10-31\",\"2019-11-01\",\"2019-11-04\",\"2019-11-05\",\"2019-11-06\",\"2019-11-07\",\"2019-11-08\",\"2019-11-11\",\"2019-11-12\",\"2019-11-13\",\"2019-11-14\",\"2019-11-15\",\"2019-11-18\",\"2019-11-19\",\"2019-11-20\",\"2019-11-21\",\"2019-11-22\",\"2019-11-25\",\"2019-11-26\",\"2019-11-27\",\"2019-11-29\",\"2019-12-02\",\"2019-12-03\",\"2019-12-04\",\"2019-12-05\",\"2019-12-06\",\"2019-12-09\",\"2019-12-10\",\"2019-12-11\",\"2019-12-12\",\"2019-12-13\",\"2019-12-16\",\"2019-12-17\",\"2019-12-18\",\"2019-12-19\",\"2019-12-20\",\"2019-12-23\",\"2019-12-24\",\"2019-12-26\",\"2019-12-27\",\"2019-12-30\",\"2019-12-31\",\"2020-01-02\",\"2020-01-03\",\"2020-01-06\",\"2020-01-07\",\"2020-01-08\",\"2020-01-09\",\"2020-01-10\",\"2020-01-13\",\"2020-01-14\",\"2020-01-15\",\"2020-01-16\",\"2020-01-17\",\"2020-01-21\",\"2020-01-22\",\"2020-01-23\",\"2020-01-24\",\"2020-01-27\",\"2020-01-28\",\"2020-01-29\",\"2020-01-30\",\"2020-01-31\",\"2020-02-03\",\"2020-02-04\",\"2020-02-05\",\"2020-02-06\",\"2020-02-07\",\"2020-02-10\",\"2020-02-11\",\"2020-02-12\",\"2020-02-13\",\"2020-02-14\",\"2020-02-18\",\"2020-02-19\",\"2020-02-20\",\"2020-02-21\",\"2020-02-24\",\"2020-02-25\",\"2020-02-26\",\"2020-02-27\",\"2020-02-28\",\"2020-03-02\",\"2020-03-03\",\"2020-03-04\",\"2020-03-05\",\"2020-03-06\",\"2020-03-09\",\"2020-03-10\",\"2020-03-11\",\"2020-03-12\",\"2020-03-13\",\"2020-03-16\",\"2020-03-17\",\"2020-03-18\",\"2020-03-19\",\"2020-03-20\",\"2020-03-23\",\"2020-03-24\",\"2020-03-25\",\"2020-03-26\",\"2020-03-27\",\"2020-03-30\",\"2020-03-31\",\"2020-04-01\",\"2020-04-02\",\"2020-04-03\",\"2020-04-06\",\"2020-04-07\",\"2020-04-08\",\"2020-04-09\",\"2020-04-13\",\"2020-04-14\",\"2020-04-15\",\"2020-04-16\",\"2020-04-17\",\"2020-04-20\",\"2020-04-21\",\"2020-04-22\",\"2020-04-23\",\"2020-04-24\",\"2020-04-27\",\"2020-04-28\",\"2020-04-29\",\"2020-04-30\",\"2020-05-01\",\"2020-05-04\",\"2020-05-05\",\"2020-05-06\",\"2020-05-07\",\"2020-05-08\",\"2020-05-11\",\"2020-05-12\",\"2020-05-13\",\"2020-05-14\",\"2020-05-15\",\"2020-05-18\",\"2020-05-19\",\"2020-05-20\",\"2020-05-21\",\"2020-05-22\",\"2020-05-26\",\"2020-05-27\",\"2020-05-28\",\"2020-05-29\",\"2020-06-01\",\"2020-06-02\",\"2020-06-03\",\"2020-06-04\",\"2020-06-05\",\"2020-06-08\",\"2020-06-09\",\"2020-06-10\",\"2020-06-11\",\"2020-06-12\",\"2020-06-15\",\"2020-06-16\",\"2020-06-17\",\"2020-06-18\",\"2020-06-19\",\"2020-06-22\",\"2020-06-23\",\"2020-06-24\",\"2020-06-25\",\"2020-06-26\",\"2020-06-29\",\"2020-06-30\",\"2020-07-01\",\"2020-07-02\",\"2020-07-06\",\"2020-07-07\",\"2020-07-08\",\"2020-07-09\",\"2020-07-10\",\"2020-07-13\",\"2020-07-14\",\"2020-07-15\",\"2020-07-16\",\"2020-07-17\",\"2020-07-20\",\"2020-07-21\",\"2020-07-22\",\"2020-07-23\",\"2020-07-24\",\"2020-07-27\",\"2020-07-28\",\"2020-07-29\",\"2020-07-30\",\"2020-07-31\",\"2020-08-03\",\"2020-08-04\",\"2020-08-05\",\"2020-08-06\",\"2020-08-07\",\"2020-08-10\",\"2020-08-11\",\"2020-08-12\",\"2020-08-13\",\"2020-08-14\",\"2020-08-17\",\"2020-08-18\",\"2020-08-19\",\"2020-08-20\",\"2020-08-21\",\"2020-08-24\",\"2020-08-25\",\"2020-08-26\",\"2020-08-27\",\"2020-08-28\",\"2020-08-31\",\"2020-09-01\",\"2020-09-02\",\"2020-09-03\",\"2020-09-04\",\"2020-09-08\",\"2020-09-09\",\"2020-09-10\",\"2020-09-11\",\"2020-09-14\",\"2020-09-15\",\"2020-09-16\",\"2020-09-17\",\"2020-09-18\",\"2020-09-21\",\"2020-09-22\",\"2020-09-23\",\"2020-09-24\",\"2020-09-25\",\"2020-09-28\",\"2020-09-29\",\"2020-09-30\",\"2020-10-01\",\"2020-10-02\",\"2020-10-05\",\"2020-10-06\",\"2020-10-07\",\"2020-10-08\",\"2020-10-09\",\"2020-10-12\",\"2020-10-13\",\"2020-10-14\",\"2020-10-15\",\"2020-10-16\",\"2020-10-19\",\"2020-10-20\",\"2020-10-21\",\"2020-10-22\",\"2020-10-23\",\"2020-10-26\",\"2020-10-27\",\"2020-10-28\",\"2020-10-29\",\"2020-10-30\",\"2020-11-02\",\"2020-11-03\",\"2020-11-04\",\"2020-11-05\",\"2020-11-06\",\"2020-11-09\",\"2020-11-10\",\"2020-11-11\",\"2020-11-12\",\"2020-11-13\",\"2020-11-16\",\"2020-11-17\",\"2020-11-18\",\"2020-11-19\",\"2020-11-20\",\"2020-11-23\",\"2020-11-24\",\"2020-11-25\",\"2020-11-27\",\"2020-11-30\",\"2020-12-01\",\"2020-12-02\",\"2020-12-03\",\"2020-12-04\",\"2020-12-07\",\"2020-12-08\",\"2020-12-09\",\"2020-12-10\",\"2020-12-11\",\"2020-12-14\",\"2020-12-15\",\"2020-12-16\",\"2020-12-17\",\"2020-12-18\",\"2020-12-21\",\"2020-12-22\",\"2020-12-23\",\"2020-12-24\",\"2020-12-28\",\"2020-12-29\",\"2020-12-30\",\"2020-12-31\",\"2021-01-04\",\"2021-01-05\"],\"Variable\":[\"SMA50\",\"SMA50\",\"SMA50\",\"SMA50\",\"SMA50\",\"SMA50\",\"SMA50\",\"SMA50\",\"SMA50\",\"SMA50\",\"SMA50\",\"SMA50\",\"SMA50\",\"SMA50\",\"SMA50\",\"SMA50\",\"SMA50\",\"SMA50\",\"SMA50\",\"SMA50\",\"SMA50\",\"SMA50\",\"SMA50\",\"SMA50\",\"SMA50\",\"SMA50\",\"SMA50\",\"SMA50\",\"SMA50\",\"SMA50\",\"SMA50\",\"SMA50\",\"SMA50\",\"SMA50\",\"SMA50\",\"SMA50\",\"SMA50\",\"SMA50\",\"SMA50\",\"SMA50\",\"SMA50\",\"SMA50\",\"SMA50\",\"SMA50\",\"SMA50\",\"SMA50\",\"SMA50\",\"SMA50\",\"SMA50\",\"SMA50\",\"SMA50\",\"SMA50\",\"SMA50\",\"SMA50\",\"SMA50\",\"SMA50\",\"SMA50\",\"SMA50\",\"SMA50\",\"SMA50\",\"SMA50\",\"SMA50\",\"SMA50\",\"SMA50\",\"SMA50\",\"SMA50\",\"SMA50\",\"SMA50\",\"SMA50\",\"SMA50\",\"SMA50\",\"SMA50\",\"SMA50\",\"SMA50\",\"SMA50\",\"SMA50\",\"SMA50\",\"SMA50\",\"SMA50\",\"SMA50\",\"SMA50\",\"SMA50\",\"SMA50\",\"SMA50\",\"SMA50\",\"SMA50\",\"SMA50\",\"SMA50\",\"SMA50\",\"SMA50\",\"SMA50\",\"SMA50\",\"SMA50\",\"SMA50\",\"SMA50\",\"SMA50\",\"SMA50\",\"SMA50\",\"SMA50\",\"SMA50\",\"SMA50\",\"SMA50\",\"SMA50\",\"SMA50\",\"SMA50\",\"SMA50\",\"SMA50\",\"SMA50\",\"SMA50\",\"SMA50\",\"SMA50\",\"SMA50\",\"SMA50\",\"SMA50\",\"SMA50\",\"SMA50\",\"SMA50\",\"SMA50\",\"SMA50\",\"SMA50\",\"SMA50\",\"SMA50\",\"SMA50\",\"SMA50\",\"SMA50\",\"SMA50\",\"SMA50\",\"SMA50\",\"SMA50\",\"SMA50\",\"SMA50\",\"SMA50\",\"SMA50\",\"SMA50\",\"SMA50\",\"SMA50\",\"SMA50\",\"SMA50\",\"SMA50\",\"SMA50\",\"SMA50\",\"SMA50\",\"SMA50\",\"SMA50\",\"SMA50\",\"SMA50\",\"SMA50\",\"SMA50\",\"SMA50\",\"SMA50\",\"SMA50\",\"SMA50\",\"SMA50\",\"SMA50\",\"SMA50\",\"SMA50\",\"SMA50\",\"SMA50\",\"SMA50\",\"SMA50\",\"SMA50\",\"SMA50\",\"SMA50\",\"SMA50\",\"SMA50\",\"SMA50\",\"SMA50\",\"SMA50\",\"SMA50\",\"SMA50\",\"SMA50\",\"SMA50\",\"SMA50\",\"SMA50\",\"SMA50\",\"SMA50\",\"SMA50\",\"SMA50\",\"SMA50\",\"SMA50\",\"SMA50\",\"SMA50\",\"SMA50\",\"SMA50\",\"SMA50\",\"SMA50\",\"SMA50\",\"SMA50\",\"SMA50\",\"SMA50\",\"SMA50\",\"SMA50\",\"SMA50\",\"SMA50\",\"SMA50\",\"SMA50\",\"SMA50\",\"SMA50\",\"SMA50\",\"SMA50\",\"SMA50\",\"SMA50\",\"SMA50\",\"SMA50\",\"SMA50\",\"SMA50\",\"SMA50\",\"SMA50\",\"SMA50\",\"SMA50\",\"SMA50\",\"SMA50\",\"SMA50\",\"SMA50\",\"SMA50\",\"SMA50\",\"SMA50\",\"SMA50\",\"SMA50\",\"SMA50\",\"SMA50\",\"SMA50\",\"SMA50\",\"SMA50\",\"SMA50\",\"SMA50\",\"SMA50\",\"SMA50\",\"SMA50\",\"SMA50\",\"SMA50\",\"SMA50\",\"SMA50\",\"SMA50\",\"SMA50\",\"SMA50\",\"SMA50\",\"SMA50\",\"SMA50\",\"SMA50\",\"SMA50\",\"SMA50\",\"SMA50\",\"SMA50\",\"SMA50\",\"SMA50\",\"SMA50\",\"SMA50\",\"SMA50\",\"SMA50\",\"SMA50\",\"SMA50\",\"SMA50\",\"SMA50\",\"SMA50\",\"SMA50\",\"SMA50\",\"SMA50\",\"SMA50\",\"SMA50\",\"SMA50\",\"SMA50\",\"SMA50\",\"SMA50\",\"SMA50\",\"SMA50\",\"SMA50\",\"SMA50\",\"SMA50\",\"SMA50\",\"SMA50\",\"SMA50\",\"SMA50\",\"SMA50\",\"SMA50\",\"SMA50\",\"SMA50\",\"SMA50\",\"SMA50\",\"SMA50\",\"SMA50\",\"SMA50\",\"SMA50\",\"SMA50\",\"SMA50\",\"SMA50\",\"SMA50\",\"SMA50\",\"SMA50\",\"SMA50\",\"SMA50\",\"SMA50\",\"SMA50\",\"SMA50\",\"SMA50\",\"SMA50\",\"SMA50\",\"SMA50\",\"SMA50\",\"SMA50\",\"SMA50\",\"SMA50\",\"SMA50\",\"SMA50\",\"SMA50\",\"SMA50\",\"SMA50\",\"SMA50\",\"SMA50\",\"SMA50\",\"SMA50\",\"SMA50\",\"SMA50\",\"SMA50\",\"SMA50\",\"SMA50\",\"SMA50\",\"SMA50\",\"SMA50\",\"SMA50\",\"SMA50\",\"SMA50\",\"SMA50\",\"SMA50\",\"SMA50\",\"SMA50\",\"SMA50\",\"SMA50\",\"SMA50\",\"SMA50\",\"SMA50\",\"SMA50\",\"SMA50\",\"SMA50\",\"SMA50\",\"SMA50\",\"SMA50\",\"SMA50\",\"SMA50\",\"SMA50\",\"SMA50\",\"SMA50\",\"SMA50\",\"SMA50\",\"SMA50\",\"SMA50\",\"SMA50\",\"SMA50\",\"SMA50\",\"SMA50\",\"SMA50\",\"SMA50\",\"SMA50\",\"SMA50\",\"SMA50\",\"SMA50\",\"SMA50\",\"SMA50\",\"SMA50\",\"SMA50\",\"SMA50\",\"SMA50\",\"SMA50\",\"SMA50\",\"SMA50\",\"SMA50\",\"SMA50\",\"SMA50\",\"SMA50\",\"SMA50\",\"SMA50\",\"SMA50\",\"SMA50\",\"SMA50\",\"SMA50\",\"SMA50\",\"SMA50\",\"SMA50\",\"SMA50\",\"SMA50\",\"SMA50\",\"SMA50\",\"SMA50\",\"SMA50\",\"SMA50\",\"SMA50\",\"SMA50\",\"SMA50\",\"SMA50\",\"SMA50\",\"SMA50\",\"SMA50\",\"SMA50\",\"SMA50\",\"SMA50\",\"SMA50\",\"SMA50\",\"SMA50\",\"SMA50\",\"SMA50\",\"SMA50\",\"SMA50\",\"SMA50\",\"SMA50\",\"SMA50\",\"SMA50\",\"SMA50\",\"SMA50\",\"SMA50\",\"SMA50\",\"SMA50\",\"SMA50\",\"SMA50\",\"SMA50\",\"SMA50\",\"SMA50\",\"SMA50\",\"SMA50\",\"SMA50\",\"SMA50\",\"SMA50\",\"SMA50\",\"SMA50\",\"SMA50\",\"SMA50\",\"SMA50\",\"SMA50\",\"SMA50\",\"SMA50\",\"SMA50\",\"SMA50\",\"SMA50\",\"SMA50\",\"SMA50\",\"SMA50\",\"SMA50\",\"SMA50\",\"SMA50\",\"SMA50\",\"SMA50\",\"SMA50\",\"SMA50\",\"SMA50\",\"SMA50\",\"SMA50\",\"SMA50\",\"SMA50\",\"SMA50\",\"SMA50\",\"SMA50\",\"SMA50\",\"SMA50\",\"SMA50\",\"SMA50\",\"SMA50\",\"SMA50\",\"SMA50\",\"SMA50\",\"SMA50\",\"SMA50\",\"SMA50\",\"SMA50\",\"SMA50\",\"SMA50\",\"SMA50\",\"SMA50\",\"SMA50\",\"SMA50\",\"SMA50\",\"SMA50\",\"SMA50\",\"SMA50\",\"SMA50\",\"SMA50\",\"SMA50\",\"SMA50\",\"SMA50\",\"SMA50\",\"SMA50\",\"SMA50\",\"SMA50\",\"SMA50\",\"SMA50\",\"SMA50\",\"SMA50\",\"SMA50\",\"SMA50\",\"SMA50\",\"SMA50\",\"SMA50\",\"SMA50\",\"SMA50\",\"SMA50\",\"SMA50\",\"SMA50\",\"SMA50\",\"SMA50\",\"SMA50\",\"SMA50\",\"SMA50\",\"SMA50\",\"SMA50\",\"SMA50\",\"SMA50\"],\"value\":{\"__ndarray__\":\"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\",\"dtype\":\"float64\",\"shape\":[504]}},\"selected\":{\"id\":\"1774\"},\"selection_policy\":{\"id\":\"1806\"}},\"id\":\"1773\",\"type\":\"ColumnDataSource\"},{\"attributes\":{\"label\":{\"value\":\"Close\"},\"renderers\":[{\"id\":\"1763\"}]},\"id\":\"1772\",\"type\":\"LegendItem\"},{\"attributes\":{\"data_source\":{\"id\":\"1757\"},\"glyph\":{\"id\":\"1760\"},\"hover_glyph\":null,\"muted_glyph\":{\"id\":\"1762\"},\"nonselection_glyph\":{\"id\":\"1761\"},\"selection_glyph\":null,\"view\":{\"id\":\"1764\"}},\"id\":\"1763\",\"type\":\"GlyphRenderer\"},{\"attributes\":{\"text\":\"\",\"text_color\":{\"value\":\"black\"},\"text_font_size\":{\"value\":\"12pt\"}},\"id\":\"1725\",\"type\":\"Title\"},{\"attributes\":{\"data_source\":{\"id\":\"1773\"},\"glyph\":{\"id\":\"1776\"},\"hover_glyph\":null,\"muted_glyph\":{\"id\":\"1778\"},\"nonselection_glyph\":{\"id\":\"1777\"},\"selection_glyph\":null,\"view\":{\"id\":\"1780\"}},\"id\":\"1779\",\"type\":\"GlyphRenderer\"},{\"attributes\":{\"margin\":[5,5,5,5],\"name\":\"HSpacer04080\",\"sizing_mode\":\"stretch_width\"},\"id\":\"1718\",\"type\":\"Spacer\"},{\"attributes\":{\"line_color\":\"#2ba02b\",\"line_width\":2,\"x\":{\"field\":\"Date\"},\"y\":{\"field\":\"value\"}},\"id\":\"1793\",\"type\":\"Line\"},{\"attributes\":{\"label\":{\"value\":\"SMA100\"},\"renderers\":[{\"id\":\"1796\"}]},\"id\":\"1808\",\"type\":\"LegendItem\"},{\"attributes\":{},\"id\":\"1753\",\"type\":\"CategoricalTickFormatter\"},{\"attributes\":{\"end\":146.66075239999998,\"reset_end\":146.66075239999998,\"reset_start\":27.0117476,\"start\":27.0117476,\"tags\":[[[\"value\",\"value\",null]]]},\"id\":\"1720\",\"type\":\"Range1d\"},{\"attributes\":{\"source\":{\"id\":\"1790\"}},\"id\":\"1797\",\"type\":\"CDSView\"},{\"attributes\":{},\"id\":\"1791\",\"type\":\"Selection\"},{\"attributes\":{\"below\":[{\"id\":\"1733\"}],\"center\":[{\"id\":\"1735\"},{\"id\":\"1739\"}],\"left\":[{\"id\":\"1736\"}],\"margin\":null,\"min_border_bottom\":10,\"min_border_left\":10,\"min_border_right\":10,\"min_border_top\":10,\"plot_height\":300,\"plot_width\":700,\"renderers\":[{\"id\":\"1763\"},{\"id\":\"1779\"},{\"id\":\"1796\"}],\"right\":[{\"id\":\"1771\"}],\"sizing_mode\":\"fixed\",\"title\":{\"id\":\"1725\"},\"toolbar\":{\"id\":\"1746\"},\"x_range\":{\"id\":\"1719\"},\"x_scale\":{\"id\":\"1729\"},\"y_range\":{\"id\":\"1720\"},\"y_scale\":{\"id\":\"1731\"}},\"id\":\"1724\",\"subtype\":\"Figure\",\"type\":\"Plot\"},{\"attributes\":{},\"id\":\"1806\",\"type\":\"UnionRenderers\"},{\"attributes\":{\"line_alpha\":0.2,\"line_color\":\"#2ba02b\",\"line_width\":2,\"x\":{\"field\":\"Date\"},\"y\":{\"field\":\"value\"}},\"id\":\"1795\",\"type\":\"Line\"},{\"attributes\":{\"bottom_units\":\"screen\",\"fill_alpha\":0.5,\"fill_color\":\"lightgrey\",\"left_units\":\"screen\",\"level\":\"overlay\",\"line_alpha\":1.0,\"line_color\":\"black\",\"line_dash\":[4,4],\"line_width\":2,\"render_mode\":\"css\",\"right_units\":\"screen\",\"top_units\":\"screen\"},\"id\":\"1745\",\"type\":\"BoxAnnotation\"},{\"attributes\":{\"line_alpha\":0.1,\"line_color\":\"#2ba02b\",\"line_width\":2,\"x\":{\"field\":\"Date\"},\"y\":{\"field\":\"value\"}},\"id\":\"1794\",\"type\":\"Line\"},{\"attributes\":{\"line_alpha\":0.1,\"line_color\":\"#ff7e0e\",\"line_width\":2,\"x\":{\"field\":\"Date\"},\"y\":{\"field\":\"value\"}},\"id\":\"1777\",\"type\":\"Line\"},{\"attributes\":{\"data_source\":{\"id\":\"1790\"},\"glyph\":{\"id\":\"1793\"},\"hover_glyph\":null,\"muted_glyph\":{\"id\":\"1795\"},\"nonselection_glyph\":{\"id\":\"1794\"},\"selection_glyph\":null,\"view\":{\"id\":\"1797\"}},\"id\":\"1796\",\"type\":\"GlyphRenderer\"},{\"attributes\":{\"line_color\":\"#ff7e0e\",\"line_width\":2,\"x\":{\"field\":\"Date\"},\"y\":{\"field\":\"value\"}},\"id\":\"1776\",\"type\":\"Line\"},{\"attributes\":{\"factors\":[\"2019-01-07\",\"2019-01-08\",\"2019-01-09\",\"2019-01-10\",\"2019-01-11\",\"2019-01-14\",\"2019-01-15\",\"2019-01-16\",\"2019-01-17\",\"2019-01-18\",\"2019-01-22\",\"2019-01-23\",\"2019-01-24\",\"2019-01-25\",\"2019-01-28\",\"2019-01-29\",\"2019-01-30\",\"2019-01-31\",\"2019-02-01\",\"2019-02-04\",\"2019-02-05\",\"2019-02-06\",\"2019-02-07\",\"2019-02-08\",\"2019-02-11\",\"2019-02-12\",\"2019-02-13\",\"2019-02-14\",\"2019-02-15\",\"2019-02-19\",\"2019-02-20\",\"2019-02-21\",\"2019-02-22\",\"2019-02-25\",\"2019-02-26\",\"2019-02-27\",\"2019-02-28\",\"2019-03-01\",\"2019-03-04\",\"2019-03-05\",\"2019-03-06\",\"2019-03-07\",\"2019-03-08\",\"2019-03-11\",\"2019-03-12\",\"2019-03-13\",\"2019-03-14\",\"2019-03-15\",\"2019-03-18\",\"2019-03-19\",\"2019-03-20\",\"2019-03-21\",\"2019-03-22\",\"2019-03-25\",\"2019-03-26\",\"2019-03-27\",\"2019-03-28\",\"2019-03-29\",\"2019-04-01\",\"2019-04-02\",\"2019-04-03\",\"2019-04-04\",\"2019-04-05\",\"2019-04-08\",\"2019-04-09\",\"2019-04-10\",\"2019-04-11\",\"2019-04-12\",\"2019-04-15\",\"2019-04-16\",\"2019-04-17\",\"2019-04-18\",\"2019-04-22\",\"2019-04-23\",\"2019-04-24\",\"2019-04-25\",\"2019-04-26\",\"2019-04-29\",\"2019-04-30\",\"2019-05-01\",\"2019-05-02\",\"2019-05-03\",\"2019-05-06\",\"2019-05-07\",\"2019-05-08\",\"2019-05-09\",\"2019-05-10\",\"2019-05-13\",\"2019-05-14\",\"2019-05-15\",\"2019-05-16\",\"2019-05-17\",\"2019-05-20\",\"2019-05-21\",\"2019-05-22\",\"2019-05-23\",\"2019-05-24\",\"2019-05-28\",\"2019-05-29\",\"2019-05-30\",\"2019-05-31\",\"2019-06-03\",\"2019-06-04\",\"2019-06-05\",\"2019-06-06\",\"2019-06-07\",\"2019-06-10\",\"2019-06-11\",\"2019-06-12\",\"2019-06-13\",\"2019-06-14\",\"2019-06-17\",\"2019-06-18\",\"2019-06-19\",\"2019-06-20\",\"2019-06-21\",\"2019-06-24\",\"2019-06-25\",\"2019-06-26\",\"2019-06-27\",\"2019-06-28\",\"2019-07-01\",\"2019-07-02\",\"2019-07-03\",\"2019-07-05\",\"2019-07-08\",\"2019-07-09\",\"2019-07-10\",\"2019-07-11\",\"2019-07-12\",\"2019-07-15\",\"2019-07-16\",\"2019-07-17\",\"2019-07-18\",\"2019-07-19\",\"2019-07-22\",\"2019-07-23\",\"2019-07-24\",\"2019-07-25\",\"2019-07-26\",\"2019-07-29\",\"2019-07-30\",\"2019-07-31\",\"2019-08-01\",\"2019-08-02\",\"2019-08-05\",\"2019-08-06\",\"2019-08-07\",\"2019-08-08\",\"2019-08-09\",\"2019-08-12\",\"2019-08-13\",\"2019-08-14\",\"2019-08-15\",\"2019-08-16\",\"2019-08-19\",\"2019-08-20\",\"2019-08-21\",\"2019-08-22\",\"2019-08-23\",\"2019-08-26\",\"2019-08-27\",\"2019-08-28\",\"2019-08-29\",\"2019-08-30\",\"2019-09-03\",\"2019-09-04\",\"2019-09-05\",\"2019-09-06\",\"2019-09-09\",\"2019-09-10\",\"2019-09-11\",\"2019-09-12\",\"2019-09-13\",\"2019-09-16\",\"2019-09-17\",\"2019-09-18\",\"2019-09-19\",\"2019-09-20\",\"2019-09-23\",\"2019-09-24\",\"2019-09-25\",\"2019-09-26\",\"2019-09-27\",\"2019-09-30\",\"2019-10-01\",\"2019-10-02\",\"2019-10-03\",\"2019-10-04\",\"2019-10-07\",\"2019-10-08\",\"2019-10-09\",\"2019-10-10\",\"2019-10-11\",\"2019-10-14\",\"2019-10-15\",\"2019-10-16\",\"2019-10-17\",\"2019-10-18\",\"2019-10-21\",\"2019-10-22\",\"2019-10-23\",\"2019-10-24\",\"2019-10-25\",\"2019-10-28\",\"2019-10-29\",\"2019-10-30\",\"2019-10-31\",\"2019-11-01\",\"2019-11-04\",\"2019-11-05\",\"2019-11-06\",\"2019-11-07\",\"2019-11-08\",\"2019-11-11\",\"2019-11-12\",\"2019-11-13\",\"2019-11-14\",\"2019-11-15\",\"2019-11-18\",\"2019-11-19\",\"2019-11-20\",\"2019-11-21\",\"2019-11-22\",\"2019-11-25\",\"2019-11-26\",\"2019-11-27\",\"2019-11-29\",\"2019-12-02\",\"2019-12-03\",\"2019-12-04\",\"2019-12-05\",\"2019-12-06\",\"2019-12-09\",\"2019-12-10\",\"2019-12-11\",\"2019-12-12\",\"2019-12-13\",\"2019-12-16\",\"2019-12-17\",\"2019-12-18\",\"2019-12-19\",\"2019-12-20\",\"2019-12-23\",\"2019-12-24\",\"2019-12-26\",\"2019-12-27\",\"2019-12-30\",\"2019-12-31\",\"2020-01-02\",\"2020-01-03\",\"2020-01-06\",\"2020-01-07\",\"2020-01-08\",\"2020-01-09\",\"2020-01-10\",\"2020-01-13\",\"2020-01-14\",\"2020-01-15\",\"2020-01-16\",\"2020-01-17\",\"2020-01-21\",\"2020-01-22\",\"2020-01-23\",\"2020-01-24\",\"2020-01-27\",\"2020-01-28\",\"2020-01-29\",\"2020-01-30\",\"2020-01-31\",\"2020-02-03\",\"2020-02-04\",\"2020-02-05\",\"2020-02-06\",\"2020-02-07\",\"2020-02-10\",\"2020-02-11\",\"2020-02-12\",\"2020-02-13\",\"2020-02-14\",\"2020-02-18\",\"2020-02-19\",\"2020-02-20\",\"2020-02-21\",\"2020-02-24\",\"2020-02-25\",\"2020-02-26\",\"2020-02-27\",\"2020-02-28\",\"2020-03-02\",\"2020-03-03\",\"2020-03-04\",\"2020-03-05\",\"2020-03-06\",\"2020-03-09\",\"2020-03-10\",\"2020-03-11\",\"2020-03-12\",\"2020-03-13\",\"2020-03-16\",\"2020-03-17\",\"2020-03-18\",\"2020-03-19\",\"2020-03-20\",\"2020-03-23\",\"2020-03-24\",\"2020-03-25\",\"2020-03-26\",\"2020-03-27\",\"2020-03-30\",\"2020-03-31\",\"2020-04-01\",\"2020-04-02\",\"2020-04-03\",\"2020-04-06\",\"2020-04-07\",\"2020-04-08\",\"2020-04-09\",\"2020-04-13\",\"2020-04-14\",\"2020-04-15\",\"2020-04-16\",\"2020-04-17\",\"2020-04-20\",\"2020-04-21\",\"2020-04-22\",\"2020-04-23\",\"2020-04-24\",\"2020-04-27\",\"2020-04-28\",\"2020-04-29\",\"2020-04-30\",\"2020-05-01\",\"2020-05-04\",\"2020-05-05\",\"2020-05-06\",\"2020-05-07\",\"2020-05-08\",\"2020-05-11\",\"2020-05-12\",\"2020-05-13\",\"2020-05-14\",\"2020-05-15\",\"2020-05-18\",\"2020-05-19\",\"2020-05-20\",\"2020-05-21\",\"2020-05-22\",\"2020-05-26\",\"2020-05-27\",\"2020-05-28\",\"2020-05-29\",\"2020-06-01\",\"2020-06-02\",\"2020-06-03\",\"2020-06-04\",\"2020-06-05\",\"2020-06-08\",\"2020-06-09\",\"2020-06-10\",\"2020-06-11\",\"2020-06-12\",\"2020-06-15\",\"2020-06-16\",\"2020-06-17\",\"2020-06-18\",\"2020-06-19\",\"2020-06-22\",\"2020-06-23\",\"2020-06-24\",\"2020-06-25\",\"2020-06-26\",\"2020-06-29\",\"2020-06-30\",\"2020-07-01\",\"2020-07-02\",\"2020-07-06\",\"2020-07-07\",\"2020-07-08\",\"2020-07-09\",\"2020-07-10\",\"2020-07-13\",\"2020-07-14\",\"2020-07-15\",\"2020-07-16\",\"2020-07-17\",\"2020-07-20\",\"2020-07-21\",\"2020-07-22\",\"2020-07-23\",\"2020-07-24\",\"2020-07-27\",\"2020-07-28\",\"2020-07-29\",\"2020-07-30\",\"2020-07-31\",\"2020-08-03\",\"2020-08-04\",\"2020-08-05\",\"2020-08-06\",\"2020-08-07\",\"2020-08-10\",\"2020-08-11\",\"2020-08-12\",\"2020-08-13\",\"2020-08-14\",\"2020-08-17\",\"2020-08-18\",\"2020-08-19\",\"2020-08-20\",\"2020-08-21\",\"2020-08-24\",\"2020-08-25\",\"2020-08-26\",\"2020-08-27\",\"2020-08-28\",\"2020-08-31\",\"2020-09-01\",\"2020-09-02\",\"2020-09-03\",\"2020-09-04\",\"2020-09-08\",\"2020-09-09\",\"2020-09-10\",\"2020-09-11\",\"2020-09-14\",\"2020-09-15\",\"2020-09-16\",\"2020-09-17\",\"2020-09-18\",\"2020-09-21\",\"2020-09-22\",\"2020-09-23\",\"2020-09-24\",\"2020-09-25\",\"2020-09-28\",\"2020-09-29\",\"2020-09-30\",\"2020-10-01\",\"2020-10-02\",\"2020-10-05\",\"2020-10-06\",\"2020-10-07\",\"2020-10-08\",\"2020-10-09\",\"2020-10-12\",\"2020-10-13\",\"2020-10-14\",\"2020-10-15\",\"2020-10-16\",\"2020-10-19\",\"2020-10-20\",\"2020-10-21\",\"2020-10-22\",\"2020-10-23\",\"2020-10-26\",\"2020-10-27\",\"2020-10-28\",\"2020-10-29\",\"2020-10-30\",\"2020-11-02\",\"2020-11-03\",\"2020-11-04\",\"2020-11-05\",\"2020-11-06\",\"2020-11-09\",\"2020-11-10\",\"2020-11-11\",\"2020-11-12\",\"2020-11-13\",\"2020-11-16\",\"2020-11-17\",\"2020-11-18\",\"2020-11-19\",\"2020-11-20\",\"2020-11-23\",\"2020-11-24\",\"2020-11-25\",\"2020-11-27\",\"2020-11-30\",\"2020-12-01\",\"2020-12-02\",\"2020-12-03\",\"2020-12-04\",\"2020-12-07\",\"2020-12-08\",\"2020-12-09\",\"2020-12-10\",\"2020-12-11\",\"2020-12-14\",\"2020-12-15\",\"2020-12-16\",\"2020-12-17\",\"2020-12-18\",\"2020-12-21\",\"2020-12-22\",\"2020-12-23\",\"2020-12-24\",\"2020-12-28\",\"2020-12-29\",\"2020-12-30\",\"2020-12-31\",\"2021-01-04\",\"2021-01-05\"],\"tags\":[[[\"Date\",\"Date\",null]]]},\"id\":\"1719\",\"type\":\"FactorRange\"}],\"root_ids\":[\"1717\"]},\"title\":\"Bokeh Application\",\"version\":\"2.0.2\"}};\n",
       "  var render_items = [{\"docid\":\"5cf63734-1dc6-43c6-a688-f99363704a87\",\"root_ids\":[\"1717\"],\"roots\":{\"1717\":\"f016422d-d6b7-4679-9d8d-bac28a37d469\"}}];\n",
       "  root.Bokeh.embed.embed_items_notebook(docs_json, render_items);\n",
       "  }\n",
       "if (root.Bokeh !== undefined) {\n",
       "    embed_document(root);\n",
       "  } else {\n",
       "    var attempts = 0;\n",
       "    var timer = setInterval(function(root) {\n",
       "      if (root.Bokeh !== undefined) {\n",
       "        clearInterval(timer);\n",
       "        embed_document(root);\n",
       "      } else if (document.readyState == \"complete\") {\n",
       "        attempts++;\n",
       "        if (attempts > 100) {\n",
       "          clearInterval(timer);\n",
       "          console.log(\"Bokeh: ERROR: Unable to run BokehJS code because BokehJS library is missing\");\n",
       "        }\n",
       "      }\n",
       "    }, 10, root)\n",
       "  }\n",
       "})(window);</script>"
      ],
      "text/plain": [
       ":NdOverlay   [Variable]\n",
       "   :Curve   [Date]   (value)"
      ]
     },
     "execution_count": 17,
     "metadata": {
      "application/vnd.holoviews_exec.v0+json": {
       "id": "1717"
      }
     },
     "output_type": "execute_result"
    }
   ],
   "source": [
    "price_df = signals_df[['Close', 'SMA50', 'SMA100']]\n",
    "price_chart = price_df.hvplot.line()\n",
    "price_chart.opts(xaxis=None)"
   ]
  },
  {
   "cell_type": "code",
   "execution_count": null,
   "metadata": {},
   "outputs": [],
   "source": [
    "### Create Hvplot Table of Portfolio Metrics"
   ]
  },
  {
   "cell_type": "code",
   "execution_count": 19,
   "metadata": {},
   "outputs": [
    {
     "data": {},
     "metadata": {},
     "output_type": "display_data"
    },
    {
     "data": {
      "application/vnd.holoviews_exec.v0+json": "",
      "text/html": [
       "<div id='1967'>\n",
       "\n",
       "\n",
       "\n",
       "\n",
       "\n",
       "  <div class=\"bk-root\" id=\"48088624-7dbb-4de0-9bb7-70a7830183a2\" data-root-id=\"1967\"></div>\n",
       "</div>\n",
       "<script type=\"application/javascript\">(function(root) {\n",
       "  function embed_document(root) {\n",
       "  var docs_json = {\"a0cc2b0a-1cf7-4e35-9824-66de9c547b78\":{\"roots\":{\"references\":[{\"attributes\":{\"source\":{\"id\":\"1969\"}},\"id\":\"1982\",\"type\":\"CDSView\"},{\"attributes\":{},\"id\":\"1972\",\"type\":\"StringEditor\"},{\"attributes\":{},\"id\":\"1971\",\"type\":\"StringFormatter\"},{\"attributes\":{\"children\":[{\"id\":\"1968\"},{\"id\":\"1981\"},{\"id\":\"1985\"}],\"margin\":[0,0,0,0],\"name\":\"Row04623\",\"tags\":[\"embedded\"]},\"id\":\"1967\",\"type\":\"Row\"},{\"attributes\":{\"editor\":{\"id\":\"1972\"},\"field\":\"index\",\"formatter\":{\"id\":\"1971\"},\"title\":\"index\"},\"id\":\"1973\",\"type\":\"TableColumn\"},{\"attributes\":{},\"id\":\"1976\",\"type\":\"StringFormatter\"},{\"attributes\":{\"margin\":[5,5,5,5],\"name\":\"HSpacer04628\",\"sizing_mode\":\"stretch_width\"},\"id\":\"1985\",\"type\":\"Spacer\"},{\"attributes\":{\"margin\":[5,5,5,5],\"name\":\"HSpacer04627\",\"sizing_mode\":\"stretch_width\"},\"id\":\"1968\",\"type\":\"Spacer\"},{\"attributes\":{},\"id\":\"1977\",\"type\":\"StringEditor\"},{\"attributes\":{},\"id\":\"1970\",\"type\":\"Selection\"},{\"attributes\":{\"editor\":{\"id\":\"1977\"},\"field\":\"Backtest\",\"formatter\":{\"id\":\"1976\"},\"title\":\"Backtest\"},\"id\":\"1978\",\"type\":\"TableColumn\"},{\"attributes\":{},\"id\":\"1984\",\"type\":\"UnionRenderers\"},{\"attributes\":{\"columns\":[{\"id\":\"1973\"},{\"id\":\"1978\"}],\"height\":300,\"reorderable\":false,\"source\":{\"id\":\"1969\"},\"view\":{\"id\":\"1982\"},\"width\":700},\"id\":\"1981\",\"type\":\"DataTable\"},{\"attributes\":{\"data\":{\"Backtest\":{\"__ndarray__\":\"q7XCEJjexr+wIWjUlbLUv0jltcB76Mc/pS7TXh6c7r+3ita++WX1vw==\",\"dtype\":\"float64\",\"shape\":[5]},\"index\":[\"Annual Return\",\"Cumulative Returns\",\"Annual Volatility\",\"Sharpe Ratio\",\"Sortino Ratio\"]},\"selected\":{\"id\":\"1970\"},\"selection_policy\":{\"id\":\"1984\"}},\"id\":\"1969\",\"type\":\"ColumnDataSource\"}],\"root_ids\":[\"1967\"]},\"title\":\"Bokeh Application\",\"version\":\"2.0.2\"}};\n",
       "  var render_items = [{\"docid\":\"a0cc2b0a-1cf7-4e35-9824-66de9c547b78\",\"root_ids\":[\"1967\"],\"roots\":{\"1967\":\"48088624-7dbb-4de0-9bb7-70a7830183a2\"}}];\n",
       "  root.Bokeh.embed.embed_items_notebook(docs_json, render_items);\n",
       "  }\n",
       "if (root.Bokeh !== undefined) {\n",
       "    embed_document(root);\n",
       "  } else {\n",
       "    var attempts = 0;\n",
       "    var timer = setInterval(function(root) {\n",
       "      if (root.Bokeh !== undefined) {\n",
       "        clearInterval(timer);\n",
       "        embed_document(root);\n",
       "      } else if (document.readyState == \"complete\") {\n",
       "        attempts++;\n",
       "        if (attempts > 100) {\n",
       "          clearInterval(timer);\n",
       "          console.log(\"Bokeh: ERROR: Unable to run BokehJS code because BokehJS library is missing\");\n",
       "        }\n",
       "      }\n",
       "    }, 10, root)\n",
       "  }\n",
       "})(window);</script>"
      ],
      "text/plain": [
       ":Table   [index,Backtest]"
      ]
     },
     "execution_count": 19,
     "metadata": {
      "application/vnd.holoviews_exec.v0+json": {
       "id": "1967"
      }
     },
     "output_type": "execute_result"
    }
   ],
   "source": [
    "portfolio_evaluation_df.reset_index(inplace=True)\n",
    "portfolio_evaluation_table = portfolio_evaluation_df.hvplot.table()\n",
    "portfolio_evaluation_table"
   ]
  },
  {
   "cell_type": "code",
   "execution_count": null,
   "metadata": {},
   "outputs": [],
   "source": [
    "### Create Hvplot Table of Trade Metrics"
   ]
  },
  {
   "cell_type": "code",
   "execution_count": 20,
   "metadata": {},
   "outputs": [
    {
     "data": {},
     "metadata": {},
     "output_type": "display_data"
    },
    {
     "data": {
      "application/vnd.holoviews_exec.v0+json": "",
      "text/html": [
       "<div id='1997'>\n",
       "\n",
       "\n",
       "\n",
       "\n",
       "\n",
       "  <div class=\"bk-root\" id=\"423358e5-754c-41ff-a59c-ea68f143461b\" data-root-id=\"1997\"></div>\n",
       "</div>\n",
       "<script type=\"application/javascript\">(function(root) {\n",
       "  function embed_document(root) {\n",
       "  var docs_json = {\"938383b6-b647-4971-9d35-74725b8a8aec\":{\"roots\":{\"references\":[{\"attributes\":{\"format\":\"0,0.0[00000]\"},\"id\":\"2031\",\"type\":\"NumberFormatter\"},{\"attributes\":{},\"id\":\"2032\",\"type\":\"NumberEditor\"},{\"attributes\":{\"format\":\"0,0.0[00000]\"},\"id\":\"2036\",\"type\":\"NumberFormatter\"},{\"attributes\":{\"editor\":{\"id\":\"2032\"},\"field\":\"Entry_Portfolio_Holding\",\"formatter\":{\"id\":\"2031\"},\"title\":\"Entry Portfolio Holding\"},\"id\":\"2033\",\"type\":\"TableColumn\"},{\"attributes\":{},\"id\":\"2001\",\"type\":\"StringFormatter\"},{\"attributes\":{},\"id\":\"2037\",\"type\":\"NumberEditor\"},{\"attributes\":{\"data\":{\"Entry_Date\":[\"2019-05-30\",\"2019-07-29\"],\"Entry_Portfolio_Holding\":{\"__ndarray__\":\"6iYxCODD1UAtsp3vf5jZQA==\",\"dtype\":\"float64\",\"shape\":[2]},\"Entry_Share_Price\":{\"__ndarray__\":\"ahX9oZlJRkBVMZV+wjVKQA==\",\"dtype\":\"float64\",\"shape\":[2]},\"Exit_Date\":[\"2019-07-22\",\"2020-04-07\"],\"Exit_Portfolio_Holding\":{\"__ndarray__\":\"AAAAAKBL2UAssp3vL6vfQA==\",\"dtype\":\"float64\",\"shape\":[2]},\"Exit_Share_Price\":{\"__ndarray__\":\"16NwPQrnSUCqmEo/4TZQQA==\",\"dtype\":\"float64\",\"shape\":[2]},\"Profit_over_Loss\":{\"__ndarray__\":\"sMh2vv89rMD8////v0q4wA==\",\"dtype\":\"float64\",\"shape\":[2]},\"Shares\":{\"__ndarray__\":\"AAAAAABAf8AAAAAAAEB/wA==\",\"dtype\":\"float64\",\"shape\":[2]},\"Stock\":[\"AAPL\",\"AAPL\"]},\"selected\":{\"id\":\"2000\"},\"selection_policy\":{\"id\":\"2049\"}},\"id\":\"1999\",\"type\":\"ColumnDataSource\"},{\"attributes\":{\"format\":\"0,0.0[00000]\"},\"id\":\"2041\",\"type\":\"NumberFormatter\"},{\"attributes\":{\"editor\":{\"id\":\"2037\"},\"field\":\"Exit_Portfolio_Holding\",\"formatter\":{\"id\":\"2036\"},\"title\":\"Exit Portfolio Holding\"},\"id\":\"2038\",\"type\":\"TableColumn\"},{\"attributes\":{},\"id\":\"2042\",\"type\":\"NumberEditor\"},{\"attributes\":{},\"id\":\"2000\",\"type\":\"Selection\"},{\"attributes\":{\"source\":{\"id\":\"1999\"}},\"id\":\"2047\",\"type\":\"CDSView\"},{\"attributes\":{},\"id\":\"2002\",\"type\":\"StringEditor\"},{\"attributes\":{\"editor\":{\"id\":\"2042\"},\"field\":\"Profit_over_Loss\",\"formatter\":{\"id\":\"2041\"},\"title\":\"Profit/Loss\"},\"id\":\"2043\",\"type\":\"TableColumn\"},{\"attributes\":{\"columns\":[{\"id\":\"2003\"},{\"id\":\"2008\"},{\"id\":\"2013\"},{\"id\":\"2018\"},{\"id\":\"2023\"},{\"id\":\"2028\"},{\"id\":\"2033\"},{\"id\":\"2038\"},{\"id\":\"2043\"}],\"height\":300,\"reorderable\":false,\"source\":{\"id\":\"1999\"},\"view\":{\"id\":\"2047\"},\"width\":700},\"id\":\"2046\",\"type\":\"DataTable\"},{\"attributes\":{\"margin\":[5,5,5,5],\"name\":\"HSpacer04735\",\"sizing_mode\":\"stretch_width\"},\"id\":\"2050\",\"type\":\"Spacer\"},{\"attributes\":{\"editor\":{\"id\":\"2002\"},\"field\":\"Stock\",\"formatter\":{\"id\":\"2001\"},\"title\":\"Stock\"},\"id\":\"2003\",\"type\":\"TableColumn\"},{\"attributes\":{},\"id\":\"2049\",\"type\":\"UnionRenderers\"},{\"attributes\":{},\"id\":\"2006\",\"type\":\"StringFormatter\"},{\"attributes\":{},\"id\":\"2007\",\"type\":\"StringEditor\"},{\"attributes\":{\"editor\":{\"id\":\"2007\"},\"field\":\"Entry_Date\",\"formatter\":{\"id\":\"2006\"},\"title\":\"Entry Date\"},\"id\":\"2008\",\"type\":\"TableColumn\"},{\"attributes\":{},\"id\":\"2011\",\"type\":\"StringFormatter\"},{\"attributes\":{},\"id\":\"2012\",\"type\":\"StringEditor\"},{\"attributes\":{\"editor\":{\"id\":\"2012\"},\"field\":\"Exit_Date\",\"formatter\":{\"id\":\"2011\"},\"title\":\"Exit Date\"},\"id\":\"2013\",\"type\":\"TableColumn\"},{\"attributes\":{\"format\":\"0,0.0[00000]\"},\"id\":\"2016\",\"type\":\"NumberFormatter\"},{\"attributes\":{\"children\":[{\"id\":\"1998\"},{\"id\":\"2046\"},{\"id\":\"2050\"}],\"margin\":[0,0,0,0],\"name\":\"Row04730\",\"tags\":[\"embedded\"]},\"id\":\"1997\",\"type\":\"Row\"},{\"attributes\":{},\"id\":\"2017\",\"type\":\"NumberEditor\"},{\"attributes\":{\"margin\":[5,5,5,5],\"name\":\"HSpacer04734\",\"sizing_mode\":\"stretch_width\"},\"id\":\"1998\",\"type\":\"Spacer\"},{\"attributes\":{\"format\":\"0,0.0[00000]\"},\"id\":\"2021\",\"type\":\"NumberFormatter\"},{\"attributes\":{\"editor\":{\"id\":\"2017\"},\"field\":\"Shares\",\"formatter\":{\"id\":\"2016\"},\"title\":\"Shares\"},\"id\":\"2018\",\"type\":\"TableColumn\"},{\"attributes\":{},\"id\":\"2022\",\"type\":\"NumberEditor\"},{\"attributes\":{\"editor\":{\"id\":\"2022\"},\"field\":\"Entry_Share_Price\",\"formatter\":{\"id\":\"2021\"},\"title\":\"Entry Share Price\"},\"id\":\"2023\",\"type\":\"TableColumn\"},{\"attributes\":{},\"id\":\"2027\",\"type\":\"NumberEditor\"},{\"attributes\":{\"format\":\"0,0.0[00000]\"},\"id\":\"2026\",\"type\":\"NumberFormatter\"},{\"attributes\":{\"editor\":{\"id\":\"2027\"},\"field\":\"Exit_Share_Price\",\"formatter\":{\"id\":\"2026\"},\"title\":\"Exit Share Price\"},\"id\":\"2028\",\"type\":\"TableColumn\"}],\"root_ids\":[\"1997\"]},\"title\":\"Bokeh Application\",\"version\":\"2.0.2\"}};\n",
       "  var render_items = [{\"docid\":\"938383b6-b647-4971-9d35-74725b8a8aec\",\"root_ids\":[\"1997\"],\"roots\":{\"1997\":\"423358e5-754c-41ff-a59c-ea68f143461b\"}}];\n",
       "  root.Bokeh.embed.embed_items_notebook(docs_json, render_items);\n",
       "  }\n",
       "if (root.Bokeh !== undefined) {\n",
       "    embed_document(root);\n",
       "  } else {\n",
       "    var attempts = 0;\n",
       "    var timer = setInterval(function(root) {\n",
       "      if (root.Bokeh !== undefined) {\n",
       "        clearInterval(timer);\n",
       "        embed_document(root);\n",
       "      } else if (document.readyState == \"complete\") {\n",
       "        attempts++;\n",
       "        if (attempts > 100) {\n",
       "          clearInterval(timer);\n",
       "          console.log(\"Bokeh: ERROR: Unable to run BokehJS code because BokehJS library is missing\");\n",
       "        }\n",
       "      }\n",
       "    }, 10, root)\n",
       "  }\n",
       "})(window);</script>"
      ],
      "text/plain": [
       ":Table   [Stock,Entry Date,Exit Date,Shares,Entry Share Price,Exit Share Price,Entry Portfolio Holding,Exit Portfolio Holding,Profit/Loss]"
      ]
     },
     "execution_count": 20,
     "metadata": {
      "application/vnd.holoviews_exec.v0+json": {
       "id": "1997"
      }
     },
     "output_type": "execute_result"
    }
   ],
   "source": [
    "trade_evaluation_table = trade_evaluation_df.hvplot.table()\n",
    "trade_evaluation_table"
   ]
  },
  {
   "cell_type": "code",
   "execution_count": null,
   "metadata": {},
   "outputs": [],
   "source": []
  }
 ],
 "metadata": {
  "kernelspec": {
   "display_name": "Python [conda env:nlpenv]",
   "language": "python",
   "name": "conda-env-nlpenv-py"
  },
  "language_info": {
   "codemirror_mode": {
    "name": "ipython",
    "version": 3
   },
   "file_extension": ".py",
   "mimetype": "text/x-python",
   "name": "python",
   "nbconvert_exporter": "python",
   "pygments_lexer": "ipython3",
   "version": "3.7.6"
  }
 },
 "nbformat": 4,
 "nbformat_minor": 4
}
